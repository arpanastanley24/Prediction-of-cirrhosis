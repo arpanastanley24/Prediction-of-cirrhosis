{
  "nbformat": 4,
  "nbformat_minor": 0,
  "metadata": {
    "colab": {
      "provenance": [],
      "include_colab_link": true
    },
    "kernelspec": {
      "name": "python3",
      "display_name": "Python 3"
    },
    "language_info": {
      "name": "python"
    }
  },
  "cells": [
    {
      "cell_type": "markdown",
      "metadata": {
        "id": "view-in-github",
        "colab_type": "text"
      },
      "source": [
        "<a href=\"https://colab.research.google.com/github/arpanastanley24/Prediction-of-cirrhosis/blob/main/Cirrhosis.ipynb\" target=\"_parent\"><img src=\"https://colab.research.google.com/assets/colab-badge.svg\" alt=\"Open In Colab\"/></a>"
      ]
    },
    {
      "cell_type": "markdown",
      "source": [
        "# **CLASSIFICATION OF CIRRHOSIS**\n",
        "\n",
        "* Cirrhosis is a chronic liver disease that occurs when healthy liver tissue is replaced by scar tissue, leading to a progressive loss of liver function.\n",
        "\n",
        "* The scar tissue that forms in the liver can block blood flow through the liver and prevent it from working properly.\n",
        "\n",
        "* Cirrhosis can have a number of causes, including chronic hepatitis B or C, alcohol abuse, nonalcoholic fatty liver disease, and autoimmune disorders.\n",
        "\n",
        "### **SYMPTOMS**\n",
        "\n",
        "Symptoms of cirrhosis can include\n",
        "\n",
        "* fatigue\n",
        "\n",
        "* jaundice\n",
        "\n",
        "* itching\n",
        "\n",
        "* bruising easily and\n",
        "\n",
        "* abdominal swelling\n",
        "\n",
        "### **TREATMENT**\n",
        "\n",
        "There is no cure for cirrhosis, but treatment can help manage the symptoms and slow the progression of the disease. Diagnosis of this disease includes procedures like blood tests, medical history analysis, physical examination, imaging studies and so on. The fatal stages of cirrhosis are easily diagnosed but at this stage the liver is severely damaged and is no longer able to function properly.\n",
        "\n",
        "Early diagnosis is necessary to save the liver of a patient. Liver biopsy can identify cirrhosis at early stage but it require to operate on the patient and also is time consuming. So, there is a necessity of a intelligent system which could identify cirrhosis even at earlier stages with the help of different biomarkers.Cirrhosis is a late stage of scarring (fibrosis) of the liver caused by many forms of liver diseases and conditions, such as hepatitis and chronic alcoholism.\n",
        "\n",
        "## **PROBLEM STATEMENT**\n",
        "\n",
        "* In this project our goal is to identify liver cirrhosis at different stages.\n",
        "\n",
        "* This problem is formulated as classification problem to identify cirrhosis at four different stages (from 1 to 4) using different biomarkers.\n",
        "\n",
        "## **DATASET DESCRIPTION**\n",
        "\n",
        "* The following data contains the information collected from the Mayo Clinic trial in primary biliary cirrhosis (PBC) of the liver conducted between 1974 and 1984.\n",
        "\n",
        "* A total of 424 PBC patients, referred to Mayo Clinic during that ten-year interval, met eligibility criteria for the randomized placebo-controlled trial of the drug D-penicillamine.\n",
        "\n",
        "* The first 312 cases in the dataset participated in the randomized trial and contain largely complete data. The additional 112 cases did not participate in the clinical trial but consented to have basic measurements recorded and to be followed for survival. Six of those cases were lost to follow-up shortly after diagnosis, so the data here are on an additional 106 cases as well as the 312 randomized participants.\n",
        "\n",
        "## **ATTRIBUTE INFORMATION**\n",
        "        1) ID: unique identifier\n",
        "\n",
        "        2) N_Days: number of days between registration and the earlier of death, transplantation, or study analysis time in July 1986\n",
        "\n",
        "        3) Status: status of the patient\n",
        "                  C (censored),\n",
        "                  CL (censored due to liver tx), or\n",
        "                  D (death)\n",
        "\n",
        "        4) Drug: type of drug D-penicillamine or placebo\n",
        "\n",
        "        5) Age: age in [days]\n",
        "\n",
        "        6) Sex: M (male) or\n",
        "                F (female)\n",
        "\n",
        "        7) Ascites: presence of ascites\n",
        "                    N (No) or\n",
        "                    Y (Yes)\n",
        "\n",
        "        8) Hepatomegaly: presence of hepatomegaly\n",
        "                         N (No) or\n",
        "                         Y (Yes)\n",
        "\n",
        "        9) Spiders: presence of spiders\n",
        "                    N (No) or\n",
        "                    Y (Yes)\n",
        "\n",
        "        10) Edema: presence of edema\n",
        "                   N (no edema and no diuretic therapy for edema),\n",
        "                   S (edema present without diuretics, or edema resolved by diuretics), or\n",
        "                   Y (edema despite diuretic therapy)\n",
        "\n",
        "        11) Bilirubin: serum bilirubin in [mg/dl]\n",
        "\n",
        "        12) Cholesterol: serum cholesterol in [mg/dl]\n",
        "\n",
        "        13) Albumin: albumin in [gm/dl]\n",
        "\n",
        "        14) Copper: urine copper in [ug/day]\n",
        "\n",
        "        15) Alk_Phos: alkaline phosphatase in [U/liter]\n",
        "\n",
        "        16) SGOT: SGOT in [U/ml]\n",
        "\n",
        "        17) Triglycerides: triglicerides in [mg/dl]\n",
        "\n",
        "        18) Platelets: platelets per cubic [ml/1000]\n",
        "\n",
        "        19) Prothrombin: prothrombin time in seconds [s]\n",
        "\n",
        "        20) Stage: histologic stage of disease (1, 2, 3, or 4)\n",
        "\n",
        "\n",
        "\n",
        "\n",
        "\n"
      ],
      "metadata": {
        "id": "gsGqe6YLCKqx"
      }
    },
    {
      "cell_type": "code",
      "execution_count": 1,
      "metadata": {
        "id": "UWBK6dsERPIU"
      },
      "outputs": [],
      "source": [
        "#Import the required libraries\n",
        "import pandas as pd\n",
        "import numpy as np\n",
        "import matplotlib.pyplot as plt\n",
        "import seaborn as sns\n",
        "\n",
        "# Supress Warnings\n",
        "import warnings\n",
        "warnings.filterwarnings(\"ignore\")"
      ]
    },
    {
      "cell_type": "code",
      "source": [
        "from google.colab import drive\n",
        "drive.mount('/content/drive')"
      ],
      "metadata": {
        "colab": {
          "base_uri": "https://localhost:8080/"
        },
        "id": "R53SKqCH0cTZ",
        "outputId": "83f096fc-e599-4709-a989-a1b128d2eecc"
      },
      "execution_count": 2,
      "outputs": [
        {
          "output_type": "stream",
          "name": "stdout",
          "text": [
            "Mounted at /content/drive\n"
          ]
        }
      ]
    },
    {
      "cell_type": "code",
      "source": [
        "#Read the dataset\n",
        "data = pd.read_csv('/content/drive/MyDrive/cirrhosis.csv')"
      ],
      "metadata": {
        "id": "aPcYF897S4nu"
      },
      "execution_count": 195,
      "outputs": []
    },
    {
      "cell_type": "markdown",
      "source": [
        "# **EXPLORATORY DATA ANALYSIS**\n",
        "\n",
        "Exploratory Data Analysis (EDA) is the process of analyzing and visualizing data to gain insights, identify patterns, and understand the underlying structure of the dataset. EDA is typically performed as a preliminary step before applying more complex analysis or modeling techniques.\n",
        "\n",
        "**Data Shape:** Determining the number of rows and columns in the dataset to understand its size.\n",
        "\n",
        "**Data Types:** Identifying the data types of variables (e.g., numeric, categorical, datetime) to determine the nature of the data.\n",
        "\n",
        "**Missing Values:** Investigating the presence of missing values in the dataset and deciding on an appropriate strategy to handle them.\n",
        "\n",
        "**Summary Statistics:** Computing descriptive statistics (e.g., mean, median, standard deviation) for numeric variables to gain insights into the central tendencies and distributions.\n",
        "\n",
        "**Categorical Variables:** Analyzing the unique values and frequencies of categorical variables to understand the different categories and their proportions.\n",
        "\n",
        "**Relationships:** Exploring the correlations and relationships between variables through correlation analysis or visualization techniques."
      ],
      "metadata": {
        "id": "s8aVXrKQ0Lqo"
      }
    },
    {
      "cell_type": "code",
      "source": [
        "#Retrieve the first 3 records\n",
        "data.head(3)"
      ],
      "metadata": {
        "colab": {
          "base_uri": "https://localhost:8080/",
          "height": 259
        },
        "id": "reYI9j36n9ZN",
        "outputId": "f3e4adda-e9db-4e16-e680-c8ddad51e0ab"
      },
      "execution_count": 196,
      "outputs": [
        {
          "output_type": "execute_result",
          "data": {
            "text/plain": [
              "   ID  N_Days Status             Drug    Age Sex Ascites Hepatomegaly Spiders  \\\n",
              "0   1     400      D  D-penicillamine  21464   F       Y            Y       Y   \n",
              "1   2    4500      C  D-penicillamine  20617   F       N            Y       Y   \n",
              "2   3    1012      D  D-penicillamine  25594   M       N            N       N   \n",
              "\n",
              "  Edema  Bilirubin  Cholesterol  Albumin  Copper  Alk_Phos    SGOT  \\\n",
              "0     Y       14.5        261.0     2.60   156.0    1718.0  137.95   \n",
              "1     N        1.1        302.0     4.14    54.0    7394.8  113.52   \n",
              "2     S        1.4        176.0     3.48   210.0     516.0   96.10   \n",
              "\n",
              "   Tryglicerides  Platelets  Prothrombin  Stage  \n",
              "0          172.0      190.0         12.2    4.0  \n",
              "1           88.0      221.0         10.6    3.0  \n",
              "2           55.0      151.0         12.0    4.0  "
            ],
            "text/html": [
              "\n",
              "  <div id=\"df-b5f83def-731d-428c-b22b-5e6a1d9599f6\">\n",
              "    <div class=\"colab-df-container\">\n",
              "      <div>\n",
              "<style scoped>\n",
              "    .dataframe tbody tr th:only-of-type {\n",
              "        vertical-align: middle;\n",
              "    }\n",
              "\n",
              "    .dataframe tbody tr th {\n",
              "        vertical-align: top;\n",
              "    }\n",
              "\n",
              "    .dataframe thead th {\n",
              "        text-align: right;\n",
              "    }\n",
              "</style>\n",
              "<table border=\"1\" class=\"dataframe\">\n",
              "  <thead>\n",
              "    <tr style=\"text-align: right;\">\n",
              "      <th></th>\n",
              "      <th>ID</th>\n",
              "      <th>N_Days</th>\n",
              "      <th>Status</th>\n",
              "      <th>Drug</th>\n",
              "      <th>Age</th>\n",
              "      <th>Sex</th>\n",
              "      <th>Ascites</th>\n",
              "      <th>Hepatomegaly</th>\n",
              "      <th>Spiders</th>\n",
              "      <th>Edema</th>\n",
              "      <th>Bilirubin</th>\n",
              "      <th>Cholesterol</th>\n",
              "      <th>Albumin</th>\n",
              "      <th>Copper</th>\n",
              "      <th>Alk_Phos</th>\n",
              "      <th>SGOT</th>\n",
              "      <th>Tryglicerides</th>\n",
              "      <th>Platelets</th>\n",
              "      <th>Prothrombin</th>\n",
              "      <th>Stage</th>\n",
              "    </tr>\n",
              "  </thead>\n",
              "  <tbody>\n",
              "    <tr>\n",
              "      <th>0</th>\n",
              "      <td>1</td>\n",
              "      <td>400</td>\n",
              "      <td>D</td>\n",
              "      <td>D-penicillamine</td>\n",
              "      <td>21464</td>\n",
              "      <td>F</td>\n",
              "      <td>Y</td>\n",
              "      <td>Y</td>\n",
              "      <td>Y</td>\n",
              "      <td>Y</td>\n",
              "      <td>14.5</td>\n",
              "      <td>261.0</td>\n",
              "      <td>2.60</td>\n",
              "      <td>156.0</td>\n",
              "      <td>1718.0</td>\n",
              "      <td>137.95</td>\n",
              "      <td>172.0</td>\n",
              "      <td>190.0</td>\n",
              "      <td>12.2</td>\n",
              "      <td>4.0</td>\n",
              "    </tr>\n",
              "    <tr>\n",
              "      <th>1</th>\n",
              "      <td>2</td>\n",
              "      <td>4500</td>\n",
              "      <td>C</td>\n",
              "      <td>D-penicillamine</td>\n",
              "      <td>20617</td>\n",
              "      <td>F</td>\n",
              "      <td>N</td>\n",
              "      <td>Y</td>\n",
              "      <td>Y</td>\n",
              "      <td>N</td>\n",
              "      <td>1.1</td>\n",
              "      <td>302.0</td>\n",
              "      <td>4.14</td>\n",
              "      <td>54.0</td>\n",
              "      <td>7394.8</td>\n",
              "      <td>113.52</td>\n",
              "      <td>88.0</td>\n",
              "      <td>221.0</td>\n",
              "      <td>10.6</td>\n",
              "      <td>3.0</td>\n",
              "    </tr>\n",
              "    <tr>\n",
              "      <th>2</th>\n",
              "      <td>3</td>\n",
              "      <td>1012</td>\n",
              "      <td>D</td>\n",
              "      <td>D-penicillamine</td>\n",
              "      <td>25594</td>\n",
              "      <td>M</td>\n",
              "      <td>N</td>\n",
              "      <td>N</td>\n",
              "      <td>N</td>\n",
              "      <td>S</td>\n",
              "      <td>1.4</td>\n",
              "      <td>176.0</td>\n",
              "      <td>3.48</td>\n",
              "      <td>210.0</td>\n",
              "      <td>516.0</td>\n",
              "      <td>96.10</td>\n",
              "      <td>55.0</td>\n",
              "      <td>151.0</td>\n",
              "      <td>12.0</td>\n",
              "      <td>4.0</td>\n",
              "    </tr>\n",
              "  </tbody>\n",
              "</table>\n",
              "</div>\n",
              "      <button class=\"colab-df-convert\" onclick=\"convertToInteractive('df-b5f83def-731d-428c-b22b-5e6a1d9599f6')\"\n",
              "              title=\"Convert this dataframe to an interactive table.\"\n",
              "              style=\"display:none;\">\n",
              "        \n",
              "  <svg xmlns=\"http://www.w3.org/2000/svg\" height=\"24px\"viewBox=\"0 0 24 24\"\n",
              "       width=\"24px\">\n",
              "    <path d=\"M0 0h24v24H0V0z\" fill=\"none\"/>\n",
              "    <path d=\"M18.56 5.44l.94 2.06.94-2.06 2.06-.94-2.06-.94-.94-2.06-.94 2.06-2.06.94zm-11 1L8.5 8.5l.94-2.06 2.06-.94-2.06-.94L8.5 2.5l-.94 2.06-2.06.94zm10 10l.94 2.06.94-2.06 2.06-.94-2.06-.94-.94-2.06-.94 2.06-2.06.94z\"/><path d=\"M17.41 7.96l-1.37-1.37c-.4-.4-.92-.59-1.43-.59-.52 0-1.04.2-1.43.59L10.3 9.45l-7.72 7.72c-.78.78-.78 2.05 0 2.83L4 21.41c.39.39.9.59 1.41.59.51 0 1.02-.2 1.41-.59l7.78-7.78 2.81-2.81c.8-.78.8-2.07 0-2.86zM5.41 20L4 18.59l7.72-7.72 1.47 1.35L5.41 20z\"/>\n",
              "  </svg>\n",
              "      </button>\n",
              "      \n",
              "  <style>\n",
              "    .colab-df-container {\n",
              "      display:flex;\n",
              "      flex-wrap:wrap;\n",
              "      gap: 12px;\n",
              "    }\n",
              "\n",
              "    .colab-df-convert {\n",
              "      background-color: #E8F0FE;\n",
              "      border: none;\n",
              "      border-radius: 50%;\n",
              "      cursor: pointer;\n",
              "      display: none;\n",
              "      fill: #1967D2;\n",
              "      height: 32px;\n",
              "      padding: 0 0 0 0;\n",
              "      width: 32px;\n",
              "    }\n",
              "\n",
              "    .colab-df-convert:hover {\n",
              "      background-color: #E2EBFA;\n",
              "      box-shadow: 0px 1px 2px rgba(60, 64, 67, 0.3), 0px 1px 3px 1px rgba(60, 64, 67, 0.15);\n",
              "      fill: #174EA6;\n",
              "    }\n",
              "\n",
              "    [theme=dark] .colab-df-convert {\n",
              "      background-color: #3B4455;\n",
              "      fill: #D2E3FC;\n",
              "    }\n",
              "\n",
              "    [theme=dark] .colab-df-convert:hover {\n",
              "      background-color: #434B5C;\n",
              "      box-shadow: 0px 1px 3px 1px rgba(0, 0, 0, 0.15);\n",
              "      filter: drop-shadow(0px 1px 2px rgba(0, 0, 0, 0.3));\n",
              "      fill: #FFFFFF;\n",
              "    }\n",
              "  </style>\n",
              "\n",
              "      <script>\n",
              "        const buttonEl =\n",
              "          document.querySelector('#df-b5f83def-731d-428c-b22b-5e6a1d9599f6 button.colab-df-convert');\n",
              "        buttonEl.style.display =\n",
              "          google.colab.kernel.accessAllowed ? 'block' : 'none';\n",
              "\n",
              "        async function convertToInteractive(key) {\n",
              "          const element = document.querySelector('#df-b5f83def-731d-428c-b22b-5e6a1d9599f6');\n",
              "          const dataTable =\n",
              "            await google.colab.kernel.invokeFunction('convertToInteractive',\n",
              "                                                     [key], {});\n",
              "          if (!dataTable) return;\n",
              "\n",
              "          const docLinkHtml = 'Like what you see? Visit the ' +\n",
              "            '<a target=\"_blank\" href=https://colab.research.google.com/notebooks/data_table.ipynb>data table notebook</a>'\n",
              "            + ' to learn more about interactive tables.';\n",
              "          element.innerHTML = '';\n",
              "          dataTable['output_type'] = 'display_data';\n",
              "          await google.colab.output.renderOutput(dataTable, element);\n",
              "          const docLink = document.createElement('div');\n",
              "          docLink.innerHTML = docLinkHtml;\n",
              "          element.appendChild(docLink);\n",
              "        }\n",
              "      </script>\n",
              "    </div>\n",
              "  </div>\n",
              "  "
            ]
          },
          "metadata": {},
          "execution_count": 196
        }
      ]
    },
    {
      "cell_type": "code",
      "source": [
        "#Retrieve the last 5 records\n",
        "data.tail()"
      ],
      "metadata": {
        "colab": {
          "base_uri": "https://localhost:8080/",
          "height": 270
        },
        "id": "9N-YgU6yoDde",
        "outputId": "b65ed24a-65f5-49cb-ab2d-f2a7bc577137"
      },
      "execution_count": 197,
      "outputs": [
        {
          "output_type": "execute_result",
          "data": {
            "text/plain": [
              "      ID  N_Days Status Drug    Age Sex Ascites Hepatomegaly Spiders Edema  \\\n",
              "413  414     681      D  NaN  24472   F     NaN          NaN     NaN     N   \n",
              "414  415    1103      C  NaN  14245   F     NaN          NaN     NaN     N   \n",
              "415  416    1055      C  NaN  20819   F     NaN          NaN     NaN     N   \n",
              "416  417     691      C  NaN  21185   F     NaN          NaN     NaN     N   \n",
              "417  418     976      C  NaN  19358   F     NaN          NaN     NaN     N   \n",
              "\n",
              "     Bilirubin  Cholesterol  Albumin  Copper  Alk_Phos  SGOT  Tryglicerides  \\\n",
              "413        1.2          NaN     2.96     NaN       NaN   NaN            NaN   \n",
              "414        0.9          NaN     3.83     NaN       NaN   NaN            NaN   \n",
              "415        1.6          NaN     3.42     NaN       NaN   NaN            NaN   \n",
              "416        0.8          NaN     3.75     NaN       NaN   NaN            NaN   \n",
              "417        0.7          NaN     3.29     NaN       NaN   NaN            NaN   \n",
              "\n",
              "     Platelets  Prothrombin  Stage  \n",
              "413      174.0         10.9    3.0  \n",
              "414      180.0         11.2    4.0  \n",
              "415      143.0          9.9    3.0  \n",
              "416      269.0         10.4    3.0  \n",
              "417      350.0         10.6    4.0  "
            ],
            "text/html": [
              "\n",
              "  <div id=\"df-f6efca97-4bf1-46db-8a2d-f9fa2474f343\">\n",
              "    <div class=\"colab-df-container\">\n",
              "      <div>\n",
              "<style scoped>\n",
              "    .dataframe tbody tr th:only-of-type {\n",
              "        vertical-align: middle;\n",
              "    }\n",
              "\n",
              "    .dataframe tbody tr th {\n",
              "        vertical-align: top;\n",
              "    }\n",
              "\n",
              "    .dataframe thead th {\n",
              "        text-align: right;\n",
              "    }\n",
              "</style>\n",
              "<table border=\"1\" class=\"dataframe\">\n",
              "  <thead>\n",
              "    <tr style=\"text-align: right;\">\n",
              "      <th></th>\n",
              "      <th>ID</th>\n",
              "      <th>N_Days</th>\n",
              "      <th>Status</th>\n",
              "      <th>Drug</th>\n",
              "      <th>Age</th>\n",
              "      <th>Sex</th>\n",
              "      <th>Ascites</th>\n",
              "      <th>Hepatomegaly</th>\n",
              "      <th>Spiders</th>\n",
              "      <th>Edema</th>\n",
              "      <th>Bilirubin</th>\n",
              "      <th>Cholesterol</th>\n",
              "      <th>Albumin</th>\n",
              "      <th>Copper</th>\n",
              "      <th>Alk_Phos</th>\n",
              "      <th>SGOT</th>\n",
              "      <th>Tryglicerides</th>\n",
              "      <th>Platelets</th>\n",
              "      <th>Prothrombin</th>\n",
              "      <th>Stage</th>\n",
              "    </tr>\n",
              "  </thead>\n",
              "  <tbody>\n",
              "    <tr>\n",
              "      <th>413</th>\n",
              "      <td>414</td>\n",
              "      <td>681</td>\n",
              "      <td>D</td>\n",
              "      <td>NaN</td>\n",
              "      <td>24472</td>\n",
              "      <td>F</td>\n",
              "      <td>NaN</td>\n",
              "      <td>NaN</td>\n",
              "      <td>NaN</td>\n",
              "      <td>N</td>\n",
              "      <td>1.2</td>\n",
              "      <td>NaN</td>\n",
              "      <td>2.96</td>\n",
              "      <td>NaN</td>\n",
              "      <td>NaN</td>\n",
              "      <td>NaN</td>\n",
              "      <td>NaN</td>\n",
              "      <td>174.0</td>\n",
              "      <td>10.9</td>\n",
              "      <td>3.0</td>\n",
              "    </tr>\n",
              "    <tr>\n",
              "      <th>414</th>\n",
              "      <td>415</td>\n",
              "      <td>1103</td>\n",
              "      <td>C</td>\n",
              "      <td>NaN</td>\n",
              "      <td>14245</td>\n",
              "      <td>F</td>\n",
              "      <td>NaN</td>\n",
              "      <td>NaN</td>\n",
              "      <td>NaN</td>\n",
              "      <td>N</td>\n",
              "      <td>0.9</td>\n",
              "      <td>NaN</td>\n",
              "      <td>3.83</td>\n",
              "      <td>NaN</td>\n",
              "      <td>NaN</td>\n",
              "      <td>NaN</td>\n",
              "      <td>NaN</td>\n",
              "      <td>180.0</td>\n",
              "      <td>11.2</td>\n",
              "      <td>4.0</td>\n",
              "    </tr>\n",
              "    <tr>\n",
              "      <th>415</th>\n",
              "      <td>416</td>\n",
              "      <td>1055</td>\n",
              "      <td>C</td>\n",
              "      <td>NaN</td>\n",
              "      <td>20819</td>\n",
              "      <td>F</td>\n",
              "      <td>NaN</td>\n",
              "      <td>NaN</td>\n",
              "      <td>NaN</td>\n",
              "      <td>N</td>\n",
              "      <td>1.6</td>\n",
              "      <td>NaN</td>\n",
              "      <td>3.42</td>\n",
              "      <td>NaN</td>\n",
              "      <td>NaN</td>\n",
              "      <td>NaN</td>\n",
              "      <td>NaN</td>\n",
              "      <td>143.0</td>\n",
              "      <td>9.9</td>\n",
              "      <td>3.0</td>\n",
              "    </tr>\n",
              "    <tr>\n",
              "      <th>416</th>\n",
              "      <td>417</td>\n",
              "      <td>691</td>\n",
              "      <td>C</td>\n",
              "      <td>NaN</td>\n",
              "      <td>21185</td>\n",
              "      <td>F</td>\n",
              "      <td>NaN</td>\n",
              "      <td>NaN</td>\n",
              "      <td>NaN</td>\n",
              "      <td>N</td>\n",
              "      <td>0.8</td>\n",
              "      <td>NaN</td>\n",
              "      <td>3.75</td>\n",
              "      <td>NaN</td>\n",
              "      <td>NaN</td>\n",
              "      <td>NaN</td>\n",
              "      <td>NaN</td>\n",
              "      <td>269.0</td>\n",
              "      <td>10.4</td>\n",
              "      <td>3.0</td>\n",
              "    </tr>\n",
              "    <tr>\n",
              "      <th>417</th>\n",
              "      <td>418</td>\n",
              "      <td>976</td>\n",
              "      <td>C</td>\n",
              "      <td>NaN</td>\n",
              "      <td>19358</td>\n",
              "      <td>F</td>\n",
              "      <td>NaN</td>\n",
              "      <td>NaN</td>\n",
              "      <td>NaN</td>\n",
              "      <td>N</td>\n",
              "      <td>0.7</td>\n",
              "      <td>NaN</td>\n",
              "      <td>3.29</td>\n",
              "      <td>NaN</td>\n",
              "      <td>NaN</td>\n",
              "      <td>NaN</td>\n",
              "      <td>NaN</td>\n",
              "      <td>350.0</td>\n",
              "      <td>10.6</td>\n",
              "      <td>4.0</td>\n",
              "    </tr>\n",
              "  </tbody>\n",
              "</table>\n",
              "</div>\n",
              "      <button class=\"colab-df-convert\" onclick=\"convertToInteractive('df-f6efca97-4bf1-46db-8a2d-f9fa2474f343')\"\n",
              "              title=\"Convert this dataframe to an interactive table.\"\n",
              "              style=\"display:none;\">\n",
              "        \n",
              "  <svg xmlns=\"http://www.w3.org/2000/svg\" height=\"24px\"viewBox=\"0 0 24 24\"\n",
              "       width=\"24px\">\n",
              "    <path d=\"M0 0h24v24H0V0z\" fill=\"none\"/>\n",
              "    <path d=\"M18.56 5.44l.94 2.06.94-2.06 2.06-.94-2.06-.94-.94-2.06-.94 2.06-2.06.94zm-11 1L8.5 8.5l.94-2.06 2.06-.94-2.06-.94L8.5 2.5l-.94 2.06-2.06.94zm10 10l.94 2.06.94-2.06 2.06-.94-2.06-.94-.94-2.06-.94 2.06-2.06.94z\"/><path d=\"M17.41 7.96l-1.37-1.37c-.4-.4-.92-.59-1.43-.59-.52 0-1.04.2-1.43.59L10.3 9.45l-7.72 7.72c-.78.78-.78 2.05 0 2.83L4 21.41c.39.39.9.59 1.41.59.51 0 1.02-.2 1.41-.59l7.78-7.78 2.81-2.81c.8-.78.8-2.07 0-2.86zM5.41 20L4 18.59l7.72-7.72 1.47 1.35L5.41 20z\"/>\n",
              "  </svg>\n",
              "      </button>\n",
              "      \n",
              "  <style>\n",
              "    .colab-df-container {\n",
              "      display:flex;\n",
              "      flex-wrap:wrap;\n",
              "      gap: 12px;\n",
              "    }\n",
              "\n",
              "    .colab-df-convert {\n",
              "      background-color: #E8F0FE;\n",
              "      border: none;\n",
              "      border-radius: 50%;\n",
              "      cursor: pointer;\n",
              "      display: none;\n",
              "      fill: #1967D2;\n",
              "      height: 32px;\n",
              "      padding: 0 0 0 0;\n",
              "      width: 32px;\n",
              "    }\n",
              "\n",
              "    .colab-df-convert:hover {\n",
              "      background-color: #E2EBFA;\n",
              "      box-shadow: 0px 1px 2px rgba(60, 64, 67, 0.3), 0px 1px 3px 1px rgba(60, 64, 67, 0.15);\n",
              "      fill: #174EA6;\n",
              "    }\n",
              "\n",
              "    [theme=dark] .colab-df-convert {\n",
              "      background-color: #3B4455;\n",
              "      fill: #D2E3FC;\n",
              "    }\n",
              "\n",
              "    [theme=dark] .colab-df-convert:hover {\n",
              "      background-color: #434B5C;\n",
              "      box-shadow: 0px 1px 3px 1px rgba(0, 0, 0, 0.15);\n",
              "      filter: drop-shadow(0px 1px 2px rgba(0, 0, 0, 0.3));\n",
              "      fill: #FFFFFF;\n",
              "    }\n",
              "  </style>\n",
              "\n",
              "      <script>\n",
              "        const buttonEl =\n",
              "          document.querySelector('#df-f6efca97-4bf1-46db-8a2d-f9fa2474f343 button.colab-df-convert');\n",
              "        buttonEl.style.display =\n",
              "          google.colab.kernel.accessAllowed ? 'block' : 'none';\n",
              "\n",
              "        async function convertToInteractive(key) {\n",
              "          const element = document.querySelector('#df-f6efca97-4bf1-46db-8a2d-f9fa2474f343');\n",
              "          const dataTable =\n",
              "            await google.colab.kernel.invokeFunction('convertToInteractive',\n",
              "                                                     [key], {});\n",
              "          if (!dataTable) return;\n",
              "\n",
              "          const docLinkHtml = 'Like what you see? Visit the ' +\n",
              "            '<a target=\"_blank\" href=https://colab.research.google.com/notebooks/data_table.ipynb>data table notebook</a>'\n",
              "            + ' to learn more about interactive tables.';\n",
              "          element.innerHTML = '';\n",
              "          dataTable['output_type'] = 'display_data';\n",
              "          await google.colab.output.renderOutput(dataTable, element);\n",
              "          const docLink = document.createElement('div');\n",
              "          docLink.innerHTML = docLinkHtml;\n",
              "          element.appendChild(docLink);\n",
              "        }\n",
              "      </script>\n",
              "    </div>\n",
              "  </div>\n",
              "  "
            ]
          },
          "metadata": {},
          "execution_count": 197
        }
      ]
    },
    {
      "cell_type": "code",
      "source": [
        "#Dropping a variable 'ID'\n",
        "data.drop(['ID'], axis=1, inplace=True)"
      ],
      "metadata": {
        "id": "rLHGUSAsqH9F"
      },
      "execution_count": 198,
      "outputs": []
    },
    {
      "cell_type": "code",
      "source": [
        "#Size of the dataset\n",
        "print(\"Size of Dataset: {} rows , {} columns\".format(data.shape[0],data.shape[1]))"
      ],
      "metadata": {
        "colab": {
          "base_uri": "https://localhost:8080/"
        },
        "id": "fLlGadnT05vX",
        "outputId": "5331cdc6-ee10-42c1-dd9b-443d6d6b363a"
      },
      "execution_count": 199,
      "outputs": [
        {
          "output_type": "stream",
          "name": "stdout",
          "text": [
            "Size of Dataset: 418 rows , 19 columns\n"
          ]
        }
      ]
    },
    {
      "cell_type": "code",
      "source": [
        "#Rename a variable\n",
        "data.rename(columns={'Sex': 'Gender'}, inplace=True)"
      ],
      "metadata": {
        "id": "-h80mMMNCCNJ"
      },
      "execution_count": 200,
      "outputs": []
    },
    {
      "cell_type": "code",
      "source": [
        "#columns in the dataset\n",
        "data.columns"
      ],
      "metadata": {
        "colab": {
          "base_uri": "https://localhost:8080/"
        },
        "id": "zWpNVix6qOyu",
        "outputId": "1a4cb59b-f30d-46f1-fba0-e92032f46531"
      },
      "execution_count": 201,
      "outputs": [
        {
          "output_type": "execute_result",
          "data": {
            "text/plain": [
              "Index(['N_Days', 'Status', 'Drug', 'Age', 'Gender', 'Ascites', 'Hepatomegaly',\n",
              "       'Spiders', 'Edema', 'Bilirubin', 'Cholesterol', 'Albumin', 'Copper',\n",
              "       'Alk_Phos', 'SGOT', 'Tryglicerides', 'Platelets', 'Prothrombin',\n",
              "       'Stage'],\n",
              "      dtype='object')"
            ]
          },
          "metadata": {},
          "execution_count": 201
        }
      ]
    },
    {
      "cell_type": "code",
      "source": [
        "data.info()"
      ],
      "metadata": {
        "colab": {
          "base_uri": "https://localhost:8080/"
        },
        "id": "1afBS1djq-Pu",
        "outputId": "ab977378-108a-403a-ba77-51601528a6ed"
      },
      "execution_count": 202,
      "outputs": [
        {
          "output_type": "stream",
          "name": "stdout",
          "text": [
            "<class 'pandas.core.frame.DataFrame'>\n",
            "RangeIndex: 418 entries, 0 to 417\n",
            "Data columns (total 19 columns):\n",
            " #   Column         Non-Null Count  Dtype  \n",
            "---  ------         --------------  -----  \n",
            " 0   N_Days         418 non-null    int64  \n",
            " 1   Status         418 non-null    object \n",
            " 2   Drug           312 non-null    object \n",
            " 3   Age            418 non-null    int64  \n",
            " 4   Gender         418 non-null    object \n",
            " 5   Ascites        312 non-null    object \n",
            " 6   Hepatomegaly   312 non-null    object \n",
            " 7   Spiders        312 non-null    object \n",
            " 8   Edema          418 non-null    object \n",
            " 9   Bilirubin      418 non-null    float64\n",
            " 10  Cholesterol    284 non-null    float64\n",
            " 11  Albumin        418 non-null    float64\n",
            " 12  Copper         310 non-null    float64\n",
            " 13  Alk_Phos       312 non-null    float64\n",
            " 14  SGOT           312 non-null    float64\n",
            " 15  Tryglicerides  282 non-null    float64\n",
            " 16  Platelets      407 non-null    float64\n",
            " 17  Prothrombin    416 non-null    float64\n",
            " 18  Stage          412 non-null    float64\n",
            "dtypes: float64(10), int64(2), object(7)\n",
            "memory usage: 62.2+ KB\n"
          ]
        }
      ]
    },
    {
      "cell_type": "code",
      "source": [
        "#Checking for null values\n",
        "null_values = data.isna().sum()\n",
        "print(null_values)\n",
        "sns.barplot(y=null_values.index, x=null_values.values,palette=\"flare\")\n",
        "plt.title(\"Missing value count\")\n",
        "plt.xlabel(\"Count\")\n",
        "plt.ylabel(\"Columns\")"
      ],
      "metadata": {
        "colab": {
          "base_uri": "https://localhost:8080/",
          "height": 836
        },
        "id": "p94m0KsPqX7-",
        "outputId": "e832ee9f-8a6d-4f64-f20d-45174410b1e7"
      },
      "execution_count": 203,
      "outputs": [
        {
          "output_type": "stream",
          "name": "stdout",
          "text": [
            "N_Days             0\n",
            "Status             0\n",
            "Drug             106\n",
            "Age                0\n",
            "Gender             0\n",
            "Ascites          106\n",
            "Hepatomegaly     106\n",
            "Spiders          106\n",
            "Edema              0\n",
            "Bilirubin          0\n",
            "Cholesterol      134\n",
            "Albumin            0\n",
            "Copper           108\n",
            "Alk_Phos         106\n",
            "SGOT             106\n",
            "Tryglicerides    136\n",
            "Platelets         11\n",
            "Prothrombin        2\n",
            "Stage              6\n",
            "dtype: int64\n"
          ]
        },
        {
          "output_type": "execute_result",
          "data": {
            "text/plain": [
              "Text(0, 0.5, 'Columns')"
            ]
          },
          "metadata": {},
          "execution_count": 203
        },
        {
          "output_type": "display_data",
          "data": {
            "text/plain": [
              "<Figure size 640x480 with 1 Axes>"
            ],
            "image/png": "[encoded data removed]"
          },
          "metadata": {}
        }
      ]
    },
    {
      "cell_type": "code",
      "source": [
        "#Handling the missing values using SimpleImputer for numerical values\n",
        "from sklearn.impute import SimpleImputer\n",
        "attributes = ['Cholesterol', 'Copper', 'Alk_Phos', 'SGOT', 'Tryglicerides', 'Platelets', 'Prothrombin', 'Stage']\n",
        "imputer = SimpleImputer(strategy='mean')\n",
        "imputer.fit(data[attributes])\n",
        "data[attributes] = imputer.transform(data[attributes])"
      ],
      "metadata": {
        "id": "h3EEckUhq4X-"
      },
      "execution_count": 204,
      "outputs": []
    },
    {
      "cell_type": "code",
      "source": [
        "data[attributes]"
      ],
      "metadata": {
        "colab": {
          "base_uri": "https://localhost:8080/",
          "height": 423
        },
        "id": "rHUPj3wdsFKH",
        "outputId": "42026ee4-a139-4cdf-f52d-344c6b168397"
      },
      "execution_count": 205,
      "outputs": [
        {
          "output_type": "execute_result",
          "data": {
            "text/plain": [
              "     Cholesterol      Copper     Alk_Phos        SGOT  Tryglicerides  \\\n",
              "0     261.000000  156.000000  1718.000000  137.950000     172.000000   \n",
              "1     302.000000   54.000000  7394.800000  113.520000      88.000000   \n",
              "2     176.000000  210.000000   516.000000   96.100000      55.000000   \n",
              "3     244.000000   64.000000  6121.800000   60.630000      92.000000   \n",
              "4     279.000000  143.000000   671.000000  113.150000      72.000000   \n",
              "..           ...         ...          ...         ...            ...   \n",
              "413   369.510563   97.648387  1982.655769  122.556346     124.702128   \n",
              "414   369.510563   97.648387  1982.655769  122.556346     124.702128   \n",
              "415   369.510563   97.648387  1982.655769  122.556346     124.702128   \n",
              "416   369.510563   97.648387  1982.655769  122.556346     124.702128   \n",
              "417   369.510563   97.648387  1982.655769  122.556346     124.702128   \n",
              "\n",
              "     Platelets  Prothrombin  Stage  \n",
              "0        190.0         12.2    4.0  \n",
              "1        221.0         10.6    3.0  \n",
              "2        151.0         12.0    4.0  \n",
              "3        183.0         10.3    4.0  \n",
              "4        136.0         10.9    3.0  \n",
              "..         ...          ...    ...  \n",
              "413      174.0         10.9    3.0  \n",
              "414      180.0         11.2    4.0  \n",
              "415      143.0          9.9    3.0  \n",
              "416      269.0         10.4    3.0  \n",
              "417      350.0         10.6    4.0  \n",
              "\n",
              "[418 rows x 8 columns]"
            ],
            "text/html": [
              "\n",
              "  <div id=\"df-5c8a9756-e370-49cb-9281-49bcaea79061\">\n",
              "    <div class=\"colab-df-container\">\n",
              "      <div>\n",
              "<style scoped>\n",
              "    .dataframe tbody tr th:only-of-type {\n",
              "        vertical-align: middle;\n",
              "    }\n",
              "\n",
              "    .dataframe tbody tr th {\n",
              "        vertical-align: top;\n",
              "    }\n",
              "\n",
              "    .dataframe thead th {\n",
              "        text-align: right;\n",
              "    }\n",
              "</style>\n",
              "<table border=\"1\" class=\"dataframe\">\n",
              "  <thead>\n",
              "    <tr style=\"text-align: right;\">\n",
              "      <th></th>\n",
              "      <th>Cholesterol</th>\n",
              "      <th>Copper</th>\n",
              "      <th>Alk_Phos</th>\n",
              "      <th>SGOT</th>\n",
              "      <th>Tryglicerides</th>\n",
              "      <th>Platelets</th>\n",
              "      <th>Prothrombin</th>\n",
              "      <th>Stage</th>\n",
              "    </tr>\n",
              "  </thead>\n",
              "  <tbody>\n",
              "    <tr>\n",
              "      <th>0</th>\n",
              "      <td>261.000000</td>\n",
              "      <td>156.000000</td>\n",
              "      <td>1718.000000</td>\n",
              "      <td>137.950000</td>\n",
              "      <td>172.000000</td>\n",
              "      <td>190.0</td>\n",
              "      <td>12.2</td>\n",
              "      <td>4.0</td>\n",
              "    </tr>\n",
              "    <tr>\n",
              "      <th>1</th>\n",
              "      <td>302.000000</td>\n",
              "      <td>54.000000</td>\n",
              "      <td>7394.800000</td>\n",
              "      <td>113.520000</td>\n",
              "      <td>88.000000</td>\n",
              "      <td>221.0</td>\n",
              "      <td>10.6</td>\n",
              "      <td>3.0</td>\n",
              "    </tr>\n",
              "    <tr>\n",
              "      <th>2</th>\n",
              "      <td>176.000000</td>\n",
              "      <td>210.000000</td>\n",
              "      <td>516.000000</td>\n",
              "      <td>96.100000</td>\n",
              "      <td>55.000000</td>\n",
              "      <td>151.0</td>\n",
              "      <td>12.0</td>\n",
              "      <td>4.0</td>\n",
              "    </tr>\n",
              "    <tr>\n",
              "      <th>3</th>\n",
              "      <td>244.000000</td>\n",
              "      <td>64.000000</td>\n",
              "      <td>6121.800000</td>\n",
              "      <td>60.630000</td>\n",
              "      <td>92.000000</td>\n",
              "      <td>183.0</td>\n",
              "      <td>10.3</td>\n",
              "      <td>4.0</td>\n",
              "    </tr>\n",
              "    <tr>\n",
              "      <th>4</th>\n",
              "      <td>279.000000</td>\n",
              "      <td>143.000000</td>\n",
              "      <td>671.000000</td>\n",
              "      <td>113.150000</td>\n",
              "      <td>72.000000</td>\n",
              "      <td>136.0</td>\n",
              "      <td>10.9</td>\n",
              "      <td>3.0</td>\n",
              "    </tr>\n",
              "    <tr>\n",
              "      <th>...</th>\n",
              "      <td>...</td>\n",
              "      <td>...</td>\n",
              "      <td>...</td>\n",
              "      <td>...</td>\n",
              "      <td>...</td>\n",
              "      <td>...</td>\n",
              "      <td>...</td>\n",
              "      <td>...</td>\n",
              "    </tr>\n",
              "    <tr>\n",
              "      <th>413</th>\n",
              "      <td>369.510563</td>\n",
              "      <td>97.648387</td>\n",
              "      <td>1982.655769</td>\n",
              "      <td>122.556346</td>\n",
              "      <td>124.702128</td>\n",
              "      <td>174.0</td>\n",
              "      <td>10.9</td>\n",
              "      <td>3.0</td>\n",
              "    </tr>\n",
              "    <tr>\n",
              "      <th>414</th>\n",
              "      <td>369.510563</td>\n",
              "      <td>97.648387</td>\n",
              "      <td>1982.655769</td>\n",
              "      <td>122.556346</td>\n",
              "      <td>124.702128</td>\n",
              "      <td>180.0</td>\n",
              "      <td>11.2</td>\n",
              "      <td>4.0</td>\n",
              "    </tr>\n",
              "    <tr>\n",
              "      <th>415</th>\n",
              "      <td>369.510563</td>\n",
              "      <td>97.648387</td>\n",
              "      <td>1982.655769</td>\n",
              "      <td>122.556346</td>\n",
              "      <td>124.702128</td>\n",
              "      <td>143.0</td>\n",
              "      <td>9.9</td>\n",
              "      <td>3.0</td>\n",
              "    </tr>\n",
              "    <tr>\n",
              "      <th>416</th>\n",
              "      <td>369.510563</td>\n",
              "      <td>97.648387</td>\n",
              "      <td>1982.655769</td>\n",
              "      <td>122.556346</td>\n",
              "      <td>124.702128</td>\n",
              "      <td>269.0</td>\n",
              "      <td>10.4</td>\n",
              "      <td>3.0</td>\n",
              "    </tr>\n",
              "    <tr>\n",
              "      <th>417</th>\n",
              "      <td>369.510563</td>\n",
              "      <td>97.648387</td>\n",
              "      <td>1982.655769</td>\n",
              "      <td>122.556346</td>\n",
              "      <td>124.702128</td>\n",
              "      <td>350.0</td>\n",
              "      <td>10.6</td>\n",
              "      <td>4.0</td>\n",
              "    </tr>\n",
              "  </tbody>\n",
              "</table>\n",
              "<p>418 rows × 8 columns</p>\n",
              "</div>\n",
              "      <button class=\"colab-df-convert\" onclick=\"convertToInteractive('df-5c8a9756-e370-49cb-9281-49bcaea79061')\"\n",
              "              title=\"Convert this dataframe to an interactive table.\"\n",
              "              style=\"display:none;\">\n",
              "        \n",
              "  <svg xmlns=\"http://www.w3.org/2000/svg\" height=\"24px\"viewBox=\"0 0 24 24\"\n",
              "       width=\"24px\">\n",
              "    <path d=\"M0 0h24v24H0V0z\" fill=\"none\"/>\n",
              "    <path d=\"M18.56 5.44l.94 2.06.94-2.06 2.06-.94-2.06-.94-.94-2.06-.94 2.06-2.06.94zm-11 1L8.5 8.5l.94-2.06 2.06-.94-2.06-.94L8.5 2.5l-.94 2.06-2.06.94zm10 10l.94 2.06.94-2.06 2.06-.94-2.06-.94-.94-2.06-.94 2.06-2.06.94z\"/><path d=\"M17.41 7.96l-1.37-1.37c-.4-.4-.92-.59-1.43-.59-.52 0-1.04.2-1.43.59L10.3 9.45l-7.72 7.72c-.78.78-.78 2.05 0 2.83L4 21.41c.39.39.9.59 1.41.59.51 0 1.02-.2 1.41-.59l7.78-7.78 2.81-2.81c.8-.78.8-2.07 0-2.86zM5.41 20L4 18.59l7.72-7.72 1.47 1.35L5.41 20z\"/>\n",
              "  </svg>\n",
              "      </button>\n",
              "      \n",
              "  <style>\n",
              "    .colab-df-container {\n",
              "      display:flex;\n",
              "      flex-wrap:wrap;\n",
              "      gap: 12px;\n",
              "    }\n",
              "\n",
              "    .colab-df-convert {\n",
              "      background-color: #E8F0FE;\n",
              "      border: none;\n",
              "      border-radius: 50%;\n",
              "      cursor: pointer;\n",
              "      display: none;\n",
              "      fill: #1967D2;\n",
              "      height: 32px;\n",
              "      padding: 0 0 0 0;\n",
              "      width: 32px;\n",
              "    }\n",
              "\n",
              "    .colab-df-convert:hover {\n",
              "      background-color: #E2EBFA;\n",
              "      box-shadow: 0px 1px 2px rgba(60, 64, 67, 0.3), 0px 1px 3px 1px rgba(60, 64, 67, 0.15);\n",
              "      fill: #174EA6;\n",
              "    }\n",
              "\n",
              "    [theme=dark] .colab-df-convert {\n",
              "      background-color: #3B4455;\n",
              "      fill: #D2E3FC;\n",
              "    }\n",
              "\n",
              "    [theme=dark] .colab-df-convert:hover {\n",
              "      background-color: #434B5C;\n",
              "      box-shadow: 0px 1px 3px 1px rgba(0, 0, 0, 0.15);\n",
              "      filter: drop-shadow(0px 1px 2px rgba(0, 0, 0, 0.3));\n",
              "      fill: #FFFFFF;\n",
              "    }\n",
              "  </style>\n",
              "\n",
              "      <script>\n",
              "        const buttonEl =\n",
              "          document.querySelector('#df-5c8a9756-e370-49cb-9281-49bcaea79061 button.colab-df-convert');\n",
              "        buttonEl.style.display =\n",
              "          google.colab.kernel.accessAllowed ? 'block' : 'none';\n",
              "\n",
              "        async function convertToInteractive(key) {\n",
              "          const element = document.querySelector('#df-5c8a9756-e370-49cb-9281-49bcaea79061');\n",
              "          const dataTable =\n",
              "            await google.colab.kernel.invokeFunction('convertToInteractive',\n",
              "                                                     [key], {});\n",
              "          if (!dataTable) return;\n",
              "\n",
              "          const docLinkHtml = 'Like what you see? Visit the ' +\n",
              "            '<a target=\"_blank\" href=https://colab.research.google.com/notebooks/data_table.ipynb>data table notebook</a>'\n",
              "            + ' to learn more about interactive tables.';\n",
              "          element.innerHTML = '';\n",
              "          dataTable['output_type'] = 'display_data';\n",
              "          await google.colab.output.renderOutput(dataTable, element);\n",
              "          const docLink = document.createElement('div');\n",
              "          docLink.innerHTML = docLinkHtml;\n",
              "          element.appendChild(docLink);\n",
              "        }\n",
              "      </script>\n",
              "    </div>\n",
              "  </div>\n",
              "  "
            ]
          },
          "metadata": {},
          "execution_count": 205
        }
      ]
    },
    {
      "cell_type": "code",
      "source": [
        "#Handling the missing values using SimpleImputer for categorical values\n",
        "from sklearn.impute import SimpleImputer\n",
        "attributes_obj = ['Drug', 'Ascites', 'Hepatomegaly', 'Spiders']\n",
        "imputer = SimpleImputer(strategy='most_frequent')\n",
        "imputer.fit(data[attributes_obj])\n",
        "data[attributes_obj] = imputer.transform(data[attributes_obj])"
      ],
      "metadata": {
        "id": "98oiWj8BqCv3"
      },
      "execution_count": 206,
      "outputs": []
    },
    {
      "cell_type": "code",
      "source": [
        "data[attributes_obj]"
      ],
      "metadata": {
        "colab": {
          "base_uri": "https://localhost:8080/",
          "height": 423
        },
        "id": "YfSfGRz8s5XP",
        "outputId": "57c187da-6dfb-402f-aa36-165d054d5982"
      },
      "execution_count": 207,
      "outputs": [
        {
          "output_type": "execute_result",
          "data": {
            "text/plain": [
              "                Drug Ascites Hepatomegaly Spiders\n",
              "0    D-penicillamine       Y            Y       Y\n",
              "1    D-penicillamine       N            Y       Y\n",
              "2    D-penicillamine       N            N       N\n",
              "3    D-penicillamine       N            Y       Y\n",
              "4            Placebo       N            Y       Y\n",
              "..               ...     ...          ...     ...\n",
              "413  D-penicillamine       N            Y       N\n",
              "414  D-penicillamine       N            Y       N\n",
              "415  D-penicillamine       N            Y       N\n",
              "416  D-penicillamine       N            Y       N\n",
              "417  D-penicillamine       N            Y       N\n",
              "\n",
              "[418 rows x 4 columns]"
            ],
            "text/html": [
              "\n",
              "  <div id=\"df-2f91edc0-2118-42a8-9a6e-7e042b697dbe\">\n",
              "    <div class=\"colab-df-container\">\n",
              "      <div>\n",
              "<style scoped>\n",
              "    .dataframe tbody tr th:only-of-type {\n",
              "        vertical-align: middle;\n",
              "    }\n",
              "\n",
              "    .dataframe tbody tr th {\n",
              "        vertical-align: top;\n",
              "    }\n",
              "\n",
              "    .dataframe thead th {\n",
              "        text-align: right;\n",
              "    }\n",
              "</style>\n",
              "<table border=\"1\" class=\"dataframe\">\n",
              "  <thead>\n",
              "    <tr style=\"text-align: right;\">\n",
              "      <th></th>\n",
              "      <th>Drug</th>\n",
              "      <th>Ascites</th>\n",
              "      <th>Hepatomegaly</th>\n",
              "      <th>Spiders</th>\n",
              "    </tr>\n",
              "  </thead>\n",
              "  <tbody>\n",
              "    <tr>\n",
              "      <th>0</th>\n",
              "      <td>D-penicillamine</td>\n",
              "      <td>Y</td>\n",
              "      <td>Y</td>\n",
              "      <td>Y</td>\n",
              "    </tr>\n",
              "    <tr>\n",
              "      <th>1</th>\n",
              "      <td>D-penicillamine</td>\n",
              "      <td>N</td>\n",
              "      <td>Y</td>\n",
              "      <td>Y</td>\n",
              "    </tr>\n",
              "    <tr>\n",
              "      <th>2</th>\n",
              "      <td>D-penicillamine</td>\n",
              "      <td>N</td>\n",
              "      <td>N</td>\n",
              "      <td>N</td>\n",
              "    </tr>\n",
              "    <tr>\n",
              "      <th>3</th>\n",
              "      <td>D-penicillamine</td>\n",
              "      <td>N</td>\n",
              "      <td>Y</td>\n",
              "      <td>Y</td>\n",
              "    </tr>\n",
              "    <tr>\n",
              "      <th>4</th>\n",
              "      <td>Placebo</td>\n",
              "      <td>N</td>\n",
              "      <td>Y</td>\n",
              "      <td>Y</td>\n",
              "    </tr>\n",
              "    <tr>\n",
              "      <th>...</th>\n",
              "      <td>...</td>\n",
              "      <td>...</td>\n",
              "      <td>...</td>\n",
              "      <td>...</td>\n",
              "    </tr>\n",
              "    <tr>\n",
              "      <th>413</th>\n",
              "      <td>D-penicillamine</td>\n",
              "      <td>N</td>\n",
              "      <td>Y</td>\n",
              "      <td>N</td>\n",
              "    </tr>\n",
              "    <tr>\n",
              "      <th>414</th>\n",
              "      <td>D-penicillamine</td>\n",
              "      <td>N</td>\n",
              "      <td>Y</td>\n",
              "      <td>N</td>\n",
              "    </tr>\n",
              "    <tr>\n",
              "      <th>415</th>\n",
              "      <td>D-penicillamine</td>\n",
              "      <td>N</td>\n",
              "      <td>Y</td>\n",
              "      <td>N</td>\n",
              "    </tr>\n",
              "    <tr>\n",
              "      <th>416</th>\n",
              "      <td>D-penicillamine</td>\n",
              "      <td>N</td>\n",
              "      <td>Y</td>\n",
              "      <td>N</td>\n",
              "    </tr>\n",
              "    <tr>\n",
              "      <th>417</th>\n",
              "      <td>D-penicillamine</td>\n",
              "      <td>N</td>\n",
              "      <td>Y</td>\n",
              "      <td>N</td>\n",
              "    </tr>\n",
              "  </tbody>\n",
              "</table>\n",
              "<p>418 rows × 4 columns</p>\n",
              "</div>\n",
              "      <button class=\"colab-df-convert\" onclick=\"convertToInteractive('df-2f91edc0-2118-42a8-9a6e-7e042b697dbe')\"\n",
              "              title=\"Convert this dataframe to an interactive table.\"\n",
              "              style=\"display:none;\">\n",
              "        \n",
              "  <svg xmlns=\"http://www.w3.org/2000/svg\" height=\"24px\"viewBox=\"0 0 24 24\"\n",
              "       width=\"24px\">\n",
              "    <path d=\"M0 0h24v24H0V0z\" fill=\"none\"/>\n",
              "    <path d=\"M18.56 5.44l.94 2.06.94-2.06 2.06-.94-2.06-.94-.94-2.06-.94 2.06-2.06.94zm-11 1L8.5 8.5l.94-2.06 2.06-.94-2.06-.94L8.5 2.5l-.94 2.06-2.06.94zm10 10l.94 2.06.94-2.06 2.06-.94-2.06-.94-.94-2.06-.94 2.06-2.06.94z\"/><path d=\"M17.41 7.96l-1.37-1.37c-.4-.4-.92-.59-1.43-.59-.52 0-1.04.2-1.43.59L10.3 9.45l-7.72 7.72c-.78.78-.78 2.05 0 2.83L4 21.41c.39.39.9.59 1.41.59.51 0 1.02-.2 1.41-.59l7.78-7.78 2.81-2.81c.8-.78.8-2.07 0-2.86zM5.41 20L4 18.59l7.72-7.72 1.47 1.35L5.41 20z\"/>\n",
              "  </svg>\n",
              "      </button>\n",
              "      \n",
              "  <style>\n",
              "    .colab-df-container {\n",
              "      display:flex;\n",
              "      flex-wrap:wrap;\n",
              "      gap: 12px;\n",
              "    }\n",
              "\n",
              "    .colab-df-convert {\n",
              "      background-color: #E8F0FE;\n",
              "      border: none;\n",
              "      border-radius: 50%;\n",
              "      cursor: pointer;\n",
              "      display: none;\n",
              "      fill: #1967D2;\n",
              "      height: 32px;\n",
              "      padding: 0 0 0 0;\n",
              "      width: 32px;\n",
              "    }\n",
              "\n",
              "    .colab-df-convert:hover {\n",
              "      background-color: #E2EBFA;\n",
              "      box-shadow: 0px 1px 2px rgba(60, 64, 67, 0.3), 0px 1px 3px 1px rgba(60, 64, 67, 0.15);\n",
              "      fill: #174EA6;\n",
              "    }\n",
              "\n",
              "    [theme=dark] .colab-df-convert {\n",
              "      background-color: #3B4455;\n",
              "      fill: #D2E3FC;\n",
              "    }\n",
              "\n",
              "    [theme=dark] .colab-df-convert:hover {\n",
              "      background-color: #434B5C;\n",
              "      box-shadow: 0px 1px 3px 1px rgba(0, 0, 0, 0.15);\n",
              "      filter: drop-shadow(0px 1px 2px rgba(0, 0, 0, 0.3));\n",
              "      fill: #FFFFFF;\n",
              "    }\n",
              "  </style>\n",
              "\n",
              "      <script>\n",
              "        const buttonEl =\n",
              "          document.querySelector('#df-2f91edc0-2118-42a8-9a6e-7e042b697dbe button.colab-df-convert');\n",
              "        buttonEl.style.display =\n",
              "          google.colab.kernel.accessAllowed ? 'block' : 'none';\n",
              "\n",
              "        async function convertToInteractive(key) {\n",
              "          const element = document.querySelector('#df-2f91edc0-2118-42a8-9a6e-7e042b697dbe');\n",
              "          const dataTable =\n",
              "            await google.colab.kernel.invokeFunction('convertToInteractive',\n",
              "                                                     [key], {});\n",
              "          if (!dataTable) return;\n",
              "\n",
              "          const docLinkHtml = 'Like what you see? Visit the ' +\n",
              "            '<a target=\"_blank\" href=https://colab.research.google.com/notebooks/data_table.ipynb>data table notebook</a>'\n",
              "            + ' to learn more about interactive tables.';\n",
              "          element.innerHTML = '';\n",
              "          dataTable['output_type'] = 'display_data';\n",
              "          await google.colab.output.renderOutput(dataTable, element);\n",
              "          const docLink = document.createElement('div');\n",
              "          docLink.innerHTML = docLinkHtml;\n",
              "          element.appendChild(docLink);\n",
              "        }\n",
              "      </script>\n",
              "    </div>\n",
              "  </div>\n",
              "  "
            ]
          },
          "metadata": {},
          "execution_count": 207
        }
      ]
    },
    {
      "cell_type": "code",
      "source": [
        "#Checking for null values\n",
        "data.isna().sum()"
      ],
      "metadata": {
        "colab": {
          "base_uri": "https://localhost:8080/"
        },
        "id": "qqPSOerltLKn",
        "outputId": "ee8bfadf-99f2-433a-ae17-7a8813266a1e"
      },
      "execution_count": 208,
      "outputs": [
        {
          "output_type": "execute_result",
          "data": {
            "text/plain": [
              "N_Days           0\n",
              "Status           0\n",
              "Drug             0\n",
              "Age              0\n",
              "Gender           0\n",
              "Ascites          0\n",
              "Hepatomegaly     0\n",
              "Spiders          0\n",
              "Edema            0\n",
              "Bilirubin        0\n",
              "Cholesterol      0\n",
              "Albumin          0\n",
              "Copper           0\n",
              "Alk_Phos         0\n",
              "SGOT             0\n",
              "Tryglicerides    0\n",
              "Platelets        0\n",
              "Prothrombin      0\n",
              "Stage            0\n",
              "dtype: int64"
            ]
          },
          "metadata": {},
          "execution_count": 208
        }
      ]
    },
    {
      "cell_type": "code",
      "source": [
        "#Count of unique values in each variables\n",
        "data.nunique()"
      ],
      "metadata": {
        "colab": {
          "base_uri": "https://localhost:8080/"
        },
        "id": "rv0lAHO2nUdH",
        "outputId": "b79e9207-e0f8-4aba-8a4b-06fa93f51eef"
      },
      "execution_count": 210,
      "outputs": [
        {
          "output_type": "execute_result",
          "data": {
            "text/plain": [
              "N_Days           399\n",
              "Status             3\n",
              "Drug               2\n",
              "Age              344\n",
              "Gender             2\n",
              "Ascites            2\n",
              "Hepatomegaly       2\n",
              "Spiders            2\n",
              "Edema              3\n",
              "Bilirubin         98\n",
              "Cholesterol      202\n",
              "Albumin          154\n",
              "Copper           159\n",
              "Alk_Phos         296\n",
              "SGOT             180\n",
              "Tryglicerides    147\n",
              "Platelets        244\n",
              "Prothrombin       49\n",
              "Stage              5\n",
              "dtype: int64"
            ]
          },
          "metadata": {},
          "execution_count": 210
        }
      ]
    },
    {
      "cell_type": "code",
      "source": [
        "#Checking for duplicate values\n",
        "data.duplicated().sum()"
      ],
      "metadata": {
        "colab": {
          "base_uri": "https://localhost:8080/"
        },
        "id": "cr5Eq2x-b48W",
        "outputId": "639e9514-9f70-46cb-c968-ca3af3b94d43"
      },
      "execution_count": 211,
      "outputs": [
        {
          "output_type": "execute_result",
          "data": {
            "text/plain": [
              "0"
            ]
          },
          "metadata": {},
          "execution_count": 211
        }
      ]
    },
    {
      "cell_type": "code",
      "source": [
        "#Data types of all the variables\n",
        "data.dtypes"
      ],
      "metadata": {
        "colab": {
          "base_uri": "https://localhost:8080/"
        },
        "id": "sW_LCa-F_JTg",
        "outputId": "3138fc32-8708-437c-be2b-247693b3e532"
      },
      "execution_count": 212,
      "outputs": [
        {
          "output_type": "execute_result",
          "data": {
            "text/plain": [
              "N_Days             int64\n",
              "Status            object\n",
              "Drug              object\n",
              "Age                int64\n",
              "Gender            object\n",
              "Ascites           object\n",
              "Hepatomegaly      object\n",
              "Spiders           object\n",
              "Edema             object\n",
              "Bilirubin        float64\n",
              "Cholesterol      float64\n",
              "Albumin          float64\n",
              "Copper           float64\n",
              "Alk_Phos         float64\n",
              "SGOT             float64\n",
              "Tryglicerides    float64\n",
              "Platelets        float64\n",
              "Prothrombin      float64\n",
              "Stage            float64\n",
              "dtype: object"
            ]
          },
          "metadata": {},
          "execution_count": 212
        }
      ]
    },
    {
      "cell_type": "code",
      "source": [
        "#Plot for gender wise cirrhosis stages\n",
        "sns.countplot(x='Gender', hue='Stage', data=data)\n",
        "plt.title(\"Gender wise cirrhosis stages\")"
      ],
      "metadata": {
        "colab": {
          "base_uri": "https://localhost:8080/",
          "height": 489
        },
        "id": "NlxDeDXj7Cpg",
        "outputId": "20cf85ba-5f1d-4de1-856f-f12301b9c97c"
      },
      "execution_count": 213,
      "outputs": [
        {
          "output_type": "execute_result",
          "data": {
            "text/plain": [
              "Text(0.5, 1.0, 'Gender wise cirrhosis stages')"
            ]
          },
          "metadata": {},
          "execution_count": 213
        },
        {
          "output_type": "display_data",
          "data": {
            "text/plain": [
              "<Figure size 640x480 with 1 Axes>"
            ],
            "image/png": "[encoded data removed]"
          },
          "metadata": {}
        }
      ]
    },
    {
      "cell_type": "code",
      "source": [
        "#Plot for drug wise cirrhosis stages\n",
        "sns.countplot(x='Drug', hue='Stage', data=data)\n",
        "plt.title(\"Drug wise cirrhosis stages\")"
      ],
      "metadata": {
        "colab": {
          "base_uri": "https://localhost:8080/",
          "height": 489
        },
        "id": "J9Ilr4TI7T3f",
        "outputId": "6e18cfd1-2580-4660-e9f8-d13590cfbcb8"
      },
      "execution_count": 214,
      "outputs": [
        {
          "output_type": "execute_result",
          "data": {
            "text/plain": [
              "Text(0.5, 1.0, 'Drug wise cirrhosis stages')"
            ]
          },
          "metadata": {},
          "execution_count": 214
        },
        {
          "output_type": "display_data",
          "data": {
            "text/plain": [
              "<Figure size 640x480 with 1 Axes>"
            ],
            "image/png": "[encoded data removed]"
          },
          "metadata": {}
        }
      ]
    },
    {
      "cell_type": "code",
      "source": [
        "#Summary measures\n",
        "data.describe().T.style.background_gradient(cmap='YlGnBu')"
      ],
      "metadata": {
        "colab": {
          "base_uri": "https://localhost:8080/",
          "height": 425
        },
        "id": "Ul7WQTPx_MTY",
        "outputId": "6aad5812-5411-4b7c-ac85-df03f6860a74"
      },
      "execution_count": 215,
      "outputs": [
        {
          "output_type": "execute_result",
          "data": {
            "text/plain": [
              "<pandas.io.formats.style.Styler at 0x7fca8c1a4fd0>"
            ],
            "text/html": [
              "<style type=\"text/css\">\n",
              "#T_729bc_row0_col0, #T_729bc_row1_col0, #T_729bc_row2_col0, #T_729bc_row2_col1, #T_729bc_row2_col2, #T_729bc_row2_col3, #T_729bc_row2_col4, #T_729bc_row2_col5, #T_729bc_row2_col6, #T_729bc_row2_col7, #T_729bc_row3_col0, #T_729bc_row4_col0, #T_729bc_row4_col1, #T_729bc_row4_col2, #T_729bc_row4_col3, #T_729bc_row4_col4, #T_729bc_row4_col5, #T_729bc_row4_col6, #T_729bc_row4_col7, #T_729bc_row5_col0, #T_729bc_row5_col3, #T_729bc_row5_col4, #T_729bc_row6_col0, #T_729bc_row7_col0, #T_729bc_row7_col3, #T_729bc_row8_col0, #T_729bc_row8_col3, #T_729bc_row9_col0, #T_729bc_row10_col0, #T_729bc_row10_col1, #T_729bc_row10_col2, #T_729bc_row10_col3, #T_729bc_row10_col4, #T_729bc_row10_col5, #T_729bc_row10_col6, #T_729bc_row10_col7, #T_729bc_row11_col0, #T_729bc_row11_col1, #T_729bc_row11_col2, #T_729bc_row11_col3, #T_729bc_row11_col4, #T_729bc_row11_col5, #T_729bc_row11_col6, #T_729bc_row11_col7 {\n",
              "  background-color: #ffffd9;\n",
              "  color: #000000;\n",
              "}\n",
              "#T_729bc_row0_col1 {\n",
              "  background-color: #f0f9b8;\n",
              "  color: #000000;\n",
              "}\n",
              "#T_729bc_row0_col2 {\n",
              "  background-color: #b0e0b6;\n",
              "  color: #000000;\n",
              "}\n",
              "#T_729bc_row0_col3, #T_729bc_row5_col1, #T_729bc_row5_col5, #T_729bc_row5_col6, #T_729bc_row7_col1, #T_729bc_row7_col4, #T_729bc_row7_col5, #T_729bc_row7_col6, #T_729bc_row8_col1, #T_729bc_row8_col4, #T_729bc_row8_col5, #T_729bc_row8_col6, #T_729bc_row9_col3 {\n",
              "  background-color: #feffd8;\n",
              "  color: #000000;\n",
              "}\n",
              "#T_729bc_row0_col4 {\n",
              "  background-color: #f5fbc4;\n",
              "  color: #000000;\n",
              "}\n",
              "#T_729bc_row0_col5, #T_729bc_row6_col5, #T_729bc_row6_col6 {\n",
              "  background-color: #f2fabc;\n",
              "  color: #000000;\n",
              "}\n",
              "#T_729bc_row0_col6 {\n",
              "  background-color: #edf8b2;\n",
              "  color: #000000;\n",
              "}\n",
              "#T_729bc_row0_col7 {\n",
              "  background-color: #e1f3b2;\n",
              "  color: #000000;\n",
              "}\n",
              "#T_729bc_row1_col1, #T_729bc_row1_col2, #T_729bc_row1_col3, #T_729bc_row1_col4, #T_729bc_row1_col5, #T_729bc_row1_col6, #T_729bc_row1_col7 {\n",
              "  background-color: #081d58;\n",
              "  color: #f1f1f1;\n",
              "}\n",
              "#T_729bc_row3_col1, #T_729bc_row3_col5, #T_729bc_row5_col7, #T_729bc_row8_col7 {\n",
              "  background-color: #fcfed3;\n",
              "  color: #000000;\n",
              "}\n",
              "#T_729bc_row3_col2 {\n",
              "  background-color: #f8fcca;\n",
              "  color: #000000;\n",
              "}\n",
              "#T_729bc_row3_col3, #T_729bc_row7_col2, #T_729bc_row8_col2, #T_729bc_row9_col1, #T_729bc_row9_col4, #T_729bc_row9_col5, #T_729bc_row9_col6 {\n",
              "  background-color: #fdfed5;\n",
              "  color: #000000;\n",
              "}\n",
              "#T_729bc_row3_col4, #T_729bc_row3_col6, #T_729bc_row5_col2, #T_729bc_row7_col7 {\n",
              "  background-color: #fdfed4;\n",
              "  color: #000000;\n",
              "}\n",
              "#T_729bc_row3_col7 {\n",
              "  background-color: #f7fcc6;\n",
              "  color: #000000;\n",
              "}\n",
              "#T_729bc_row6_col1 {\n",
              "  background-color: #f0f9b7;\n",
              "  color: #000000;\n",
              "}\n",
              "#T_729bc_row6_col2, #T_729bc_row6_col7 {\n",
              "  background-color: #4ab9c3;\n",
              "  color: #f1f1f1;\n",
              "}\n",
              "#T_729bc_row6_col3 {\n",
              "  background-color: #fbfdd0;\n",
              "  color: #000000;\n",
              "}\n",
              "#T_729bc_row6_col4 {\n",
              "  background-color: #f6fbc5;\n",
              "  color: #000000;\n",
              "}\n",
              "#T_729bc_row9_col2, #T_729bc_row9_col7 {\n",
              "  background-color: #fcfed1;\n",
              "  color: #000000;\n",
              "}\n",
              "</style>\n",
              "<table id=\"T_729bc\" class=\"dataframe\">\n",
              "  <thead>\n",
              "    <tr>\n",
              "      <th class=\"blank level0\" >&nbsp;</th>\n",
              "      <th id=\"T_729bc_level0_col0\" class=\"col_heading level0 col0\" >count</th>\n",
              "      <th id=\"T_729bc_level0_col1\" class=\"col_heading level0 col1\" >mean</th>\n",
              "      <th id=\"T_729bc_level0_col2\" class=\"col_heading level0 col2\" >std</th>\n",
              "      <th id=\"T_729bc_level0_col3\" class=\"col_heading level0 col3\" >min</th>\n",
              "      <th id=\"T_729bc_level0_col4\" class=\"col_heading level0 col4\" >25%</th>\n",
              "      <th id=\"T_729bc_level0_col5\" class=\"col_heading level0 col5\" >50%</th>\n",
              "      <th id=\"T_729bc_level0_col6\" class=\"col_heading level0 col6\" >75%</th>\n",
              "      <th id=\"T_729bc_level0_col7\" class=\"col_heading level0 col7\" >max</th>\n",
              "    </tr>\n",
              "  </thead>\n",
              "  <tbody>\n",
              "    <tr>\n",
              "      <th id=\"T_729bc_level0_row0\" class=\"row_heading level0 row0\" >N_Days</th>\n",
              "      <td id=\"T_729bc_row0_col0\" class=\"data row0 col0\" >418.000000</td>\n",
              "      <td id=\"T_729bc_row0_col1\" class=\"data row0 col1\" >1917.782297</td>\n",
              "      <td id=\"T_729bc_row0_col2\" class=\"data row0 col2\" >1104.672992</td>\n",
              "      <td id=\"T_729bc_row0_col3\" class=\"data row0 col3\" >41.000000</td>\n",
              "      <td id=\"T_729bc_row0_col4\" class=\"data row0 col4\" >1092.750000</td>\n",
              "      <td id=\"T_729bc_row0_col5\" class=\"data row0 col5\" >1730.000000</td>\n",
              "      <td id=\"T_729bc_row0_col6\" class=\"data row0 col6\" >2613.500000</td>\n",
              "      <td id=\"T_729bc_row0_col7\" class=\"data row0 col7\" >4795.000000</td>\n",
              "    </tr>\n",
              "    <tr>\n",
              "      <th id=\"T_729bc_level0_row1\" class=\"row_heading level0 row1\" >Age</th>\n",
              "      <td id=\"T_729bc_row1_col0\" class=\"data row1 col0\" >418.000000</td>\n",
              "      <td id=\"T_729bc_row1_col1\" class=\"data row1 col1\" >18533.351675</td>\n",
              "      <td id=\"T_729bc_row1_col2\" class=\"data row1 col2\" >3815.845055</td>\n",
              "      <td id=\"T_729bc_row1_col3\" class=\"data row1 col3\" >9598.000000</td>\n",
              "      <td id=\"T_729bc_row1_col4\" class=\"data row1 col4\" >15644.500000</td>\n",
              "      <td id=\"T_729bc_row1_col5\" class=\"data row1 col5\" >18628.000000</td>\n",
              "      <td id=\"T_729bc_row1_col6\" class=\"data row1 col6\" >21272.500000</td>\n",
              "      <td id=\"T_729bc_row1_col7\" class=\"data row1 col7\" >28650.000000</td>\n",
              "    </tr>\n",
              "    <tr>\n",
              "      <th id=\"T_729bc_level0_row2\" class=\"row_heading level0 row2\" >Bilirubin</th>\n",
              "      <td id=\"T_729bc_row2_col0\" class=\"data row2 col0\" >418.000000</td>\n",
              "      <td id=\"T_729bc_row2_col1\" class=\"data row2 col1\" >3.220813</td>\n",
              "      <td id=\"T_729bc_row2_col2\" class=\"data row2 col2\" >4.407506</td>\n",
              "      <td id=\"T_729bc_row2_col3\" class=\"data row2 col3\" >0.300000</td>\n",
              "      <td id=\"T_729bc_row2_col4\" class=\"data row2 col4\" >0.800000</td>\n",
              "      <td id=\"T_729bc_row2_col5\" class=\"data row2 col5\" >1.400000</td>\n",
              "      <td id=\"T_729bc_row2_col6\" class=\"data row2 col6\" >3.400000</td>\n",
              "      <td id=\"T_729bc_row2_col7\" class=\"data row2 col7\" >28.000000</td>\n",
              "    </tr>\n",
              "    <tr>\n",
              "      <th id=\"T_729bc_level0_row3\" class=\"row_heading level0 row3\" >Cholesterol</th>\n",
              "      <td id=\"T_729bc_row3_col0\" class=\"data row3 col0\" >418.000000</td>\n",
              "      <td id=\"T_729bc_row3_col1\" class=\"data row3 col1\" >369.510563</td>\n",
              "      <td id=\"T_729bc_row3_col2\" class=\"data row3 col2\" >191.077413</td>\n",
              "      <td id=\"T_729bc_row3_col3\" class=\"data row3 col3\" >120.000000</td>\n",
              "      <td id=\"T_729bc_row3_col4\" class=\"data row3 col4\" >273.000000</td>\n",
              "      <td id=\"T_729bc_row3_col5\" class=\"data row3 col5\" >369.510563</td>\n",
              "      <td id=\"T_729bc_row3_col6\" class=\"data row3 col6\" >369.510563</td>\n",
              "      <td id=\"T_729bc_row3_col7\" class=\"data row3 col7\" >1775.000000</td>\n",
              "    </tr>\n",
              "    <tr>\n",
              "      <th id=\"T_729bc_level0_row4\" class=\"row_heading level0 row4\" >Albumin</th>\n",
              "      <td id=\"T_729bc_row4_col0\" class=\"data row4 col0\" >418.000000</td>\n",
              "      <td id=\"T_729bc_row4_col1\" class=\"data row4 col1\" >3.497440</td>\n",
              "      <td id=\"T_729bc_row4_col2\" class=\"data row4 col2\" >0.424972</td>\n",
              "      <td id=\"T_729bc_row4_col3\" class=\"data row4 col3\" >1.960000</td>\n",
              "      <td id=\"T_729bc_row4_col4\" class=\"data row4 col4\" >3.242500</td>\n",
              "      <td id=\"T_729bc_row4_col5\" class=\"data row4 col5\" >3.530000</td>\n",
              "      <td id=\"T_729bc_row4_col6\" class=\"data row4 col6\" >3.770000</td>\n",
              "      <td id=\"T_729bc_row4_col7\" class=\"data row4 col7\" >4.640000</td>\n",
              "    </tr>\n",
              "    <tr>\n",
              "      <th id=\"T_729bc_level0_row5\" class=\"row_heading level0 row5\" >Copper</th>\n",
              "      <td id=\"T_729bc_row5_col0\" class=\"data row5 col0\" >418.000000</td>\n",
              "      <td id=\"T_729bc_row5_col1\" class=\"data row5 col1\" >97.648387</td>\n",
              "      <td id=\"T_729bc_row5_col2\" class=\"data row5 col2\" >73.697982</td>\n",
              "      <td id=\"T_729bc_row5_col3\" class=\"data row5 col3\" >4.000000</td>\n",
              "      <td id=\"T_729bc_row5_col4\" class=\"data row5 col4\" >51.250000</td>\n",
              "      <td id=\"T_729bc_row5_col5\" class=\"data row5 col5\" >97.648387</td>\n",
              "      <td id=\"T_729bc_row5_col6\" class=\"data row5 col6\" >100.750000</td>\n",
              "      <td id=\"T_729bc_row5_col7\" class=\"data row5 col7\" >588.000000</td>\n",
              "    </tr>\n",
              "    <tr>\n",
              "      <th id=\"T_729bc_level0_row6\" class=\"row_heading level0 row6\" >Alk_Phos</th>\n",
              "      <td id=\"T_729bc_row6_col0\" class=\"data row6 col0\" >418.000000</td>\n",
              "      <td id=\"T_729bc_row6_col1\" class=\"data row6 col1\" >1982.655769</td>\n",
              "      <td id=\"T_729bc_row6_col2\" class=\"data row6 col2\" >1848.437803</td>\n",
              "      <td id=\"T_729bc_row6_col3\" class=\"data row6 col3\" >289.000000</td>\n",
              "      <td id=\"T_729bc_row6_col4\" class=\"data row6 col4\" >1016.250000</td>\n",
              "      <td id=\"T_729bc_row6_col5\" class=\"data row6 col5\" >1717.000000</td>\n",
              "      <td id=\"T_729bc_row6_col6\" class=\"data row6 col6\" >1982.655769</td>\n",
              "      <td id=\"T_729bc_row6_col7\" class=\"data row6 col7\" >13862.400000</td>\n",
              "    </tr>\n",
              "    <tr>\n",
              "      <th id=\"T_729bc_level0_row7\" class=\"row_heading level0 row7\" >SGOT</th>\n",
              "      <td id=\"T_729bc_row7_col0\" class=\"data row7 col0\" >418.000000</td>\n",
              "      <td id=\"T_729bc_row7_col1\" class=\"data row7 col1\" >122.556346</td>\n",
              "      <td id=\"T_729bc_row7_col2\" class=\"data row7 col2\" >48.965657</td>\n",
              "      <td id=\"T_729bc_row7_col3\" class=\"data row7 col3\" >26.350000</td>\n",
              "      <td id=\"T_729bc_row7_col4\" class=\"data row7 col4\" >91.000000</td>\n",
              "      <td id=\"T_729bc_row7_col5\" class=\"data row7 col5\" >122.556346</td>\n",
              "      <td id=\"T_729bc_row7_col6\" class=\"data row7 col6\" >135.750000</td>\n",
              "      <td id=\"T_729bc_row7_col7\" class=\"data row7 col7\" >457.250000</td>\n",
              "    </tr>\n",
              "    <tr>\n",
              "      <th id=\"T_729bc_level0_row8\" class=\"row_heading level0 row8\" >Tryglicerides</th>\n",
              "      <td id=\"T_729bc_row8_col0\" class=\"data row8 col0\" >418.000000</td>\n",
              "      <td id=\"T_729bc_row8_col1\" class=\"data row8 col1\" >124.702128</td>\n",
              "      <td id=\"T_729bc_row8_col2\" class=\"data row8 col2\" >53.479887</td>\n",
              "      <td id=\"T_729bc_row8_col3\" class=\"data row8 col3\" >33.000000</td>\n",
              "      <td id=\"T_729bc_row8_col4\" class=\"data row8 col4\" >95.000000</td>\n",
              "      <td id=\"T_729bc_row8_col5\" class=\"data row8 col5\" >124.702128</td>\n",
              "      <td id=\"T_729bc_row8_col6\" class=\"data row8 col6\" >127.750000</td>\n",
              "      <td id=\"T_729bc_row8_col7\" class=\"data row8 col7\" >598.000000</td>\n",
              "    </tr>\n",
              "    <tr>\n",
              "      <th id=\"T_729bc_level0_row9\" class=\"row_heading level0 row9\" >Platelets</th>\n",
              "      <td id=\"T_729bc_row9_col0\" class=\"data row9 col0\" >418.000000</td>\n",
              "      <td id=\"T_729bc_row9_col1\" class=\"data row9 col1\" >257.024570</td>\n",
              "      <td id=\"T_729bc_row9_col2\" class=\"data row9 col2\" >97.020057</td>\n",
              "      <td id=\"T_729bc_row9_col3\" class=\"data row9 col3\" >62.000000</td>\n",
              "      <td id=\"T_729bc_row9_col4\" class=\"data row9 col4\" >190.000000</td>\n",
              "      <td id=\"T_729bc_row9_col5\" class=\"data row9 col5\" >253.000000</td>\n",
              "      <td id=\"T_729bc_row9_col6\" class=\"data row9 col6\" >315.500000</td>\n",
              "      <td id=\"T_729bc_row9_col7\" class=\"data row9 col7\" >721.000000</td>\n",
              "    </tr>\n",
              "    <tr>\n",
              "      <th id=\"T_729bc_level0_row10\" class=\"row_heading level0 row10\" >Prothrombin</th>\n",
              "      <td id=\"T_729bc_row10_col0\" class=\"data row10 col0\" >418.000000</td>\n",
              "      <td id=\"T_729bc_row10_col1\" class=\"data row10 col1\" >10.731731</td>\n",
              "      <td id=\"T_729bc_row10_col2\" class=\"data row10 col2\" >1.019547</td>\n",
              "      <td id=\"T_729bc_row10_col3\" class=\"data row10 col3\" >9.000000</td>\n",
              "      <td id=\"T_729bc_row10_col4\" class=\"data row10 col4\" >10.000000</td>\n",
              "      <td id=\"T_729bc_row10_col5\" class=\"data row10 col5\" >10.600000</td>\n",
              "      <td id=\"T_729bc_row10_col6\" class=\"data row10 col6\" >11.100000</td>\n",
              "      <td id=\"T_729bc_row10_col7\" class=\"data row10 col7\" >18.000000</td>\n",
              "    </tr>\n",
              "    <tr>\n",
              "      <th id=\"T_729bc_level0_row11\" class=\"row_heading level0 row11\" >Stage</th>\n",
              "      <td id=\"T_729bc_row11_col0\" class=\"data row11 col0\" >418.000000</td>\n",
              "      <td id=\"T_729bc_row11_col1\" class=\"data row11 col1\" >3.024272</td>\n",
              "      <td id=\"T_729bc_row11_col2\" class=\"data row11 col2\" >0.875673</td>\n",
              "      <td id=\"T_729bc_row11_col3\" class=\"data row11 col3\" >1.000000</td>\n",
              "      <td id=\"T_729bc_row11_col4\" class=\"data row11 col4\" >2.000000</td>\n",
              "      <td id=\"T_729bc_row11_col5\" class=\"data row11 col5\" >3.000000</td>\n",
              "      <td id=\"T_729bc_row11_col6\" class=\"data row11 col6\" >4.000000</td>\n",
              "      <td id=\"T_729bc_row11_col7\" class=\"data row11 col7\" >4.000000</td>\n",
              "    </tr>\n",
              "  </tbody>\n",
              "</table>\n"
            ]
          },
          "metadata": {},
          "execution_count": 215
        }
      ]
    },
    {
      "cell_type": "markdown",
      "source": [
        "### **CORRELATION ANALYSIS**\n",
        "\n",
        "* Correlation analysis is a statistical technique used to measure the strength and direction of the linear relationship between two or more variables.\n",
        "\n",
        "* It helps us understand the extent to which changes in one variable are associated with changes in another variable.\n",
        "\n",
        "* In correlation analysis, the correlation coefficient is calculated, which quantifies the degree of association between variables.\n",
        "\n",
        "**Correlation Matrix:**\n",
        "\n",
        "* A correlation matrix is a table that displays the correlation coefficients between multiple variables.\n",
        "\n",
        "* It provides a comprehensive view of the correlations between variables in a dataset, allowing us to identify patterns and relationships."
      ],
      "metadata": {
        "id": "VWV8HHCP_R2a"
      }
    },
    {
      "cell_type": "code",
      "source": [
        "# plot heatmap to check the correlation\n",
        "plt.figure(figsize=(10,5))\n",
        "sns.heatmap(data.corr(), cmap=\"BuPu\", annot=True)\n",
        "plt.show()"
      ],
      "metadata": {
        "colab": {
          "base_uri": "https://localhost:8080/",
          "height": 524
        },
        "id": "2KCnusRD_Otg",
        "outputId": "76772652-099f-48b6-b906-4ca8753317d8"
      },
      "execution_count": 216,
      "outputs": [
        {
          "output_type": "display_data",
          "data": {
            "text/plain": [
              "<Figure size 1000x500 with 2 Axes>"
            ],
            "image/png": "[encoded data removed]"
          },
          "metadata": {}
        }
      ]
    },
    {
      "cell_type": "markdown",
      "source": [
        "# **FEATURE ENCODING**\n",
        "\n",
        "Encoding refers to the process of converting categorical variables into numerical representations that machine learning algorithms can understand. Categorical variables are variables that represent different categories or labels, such as colors, types of objects, or groups."
      ],
      "metadata": {
        "id": "iIBGG1XiDPv4"
      }
    },
    {
      "cell_type": "code",
      "source": [
        "#Convert the categorical variables to numerical variables\n",
        "from sklearn.preprocessing import LabelEncoder\n",
        "le=LabelEncoder()\n",
        "data['Status'] = le.fit_transform(data['Status'])\n",
        "data['Drug'] = le.fit_transform(data['Drug'])\n",
        "data['Gender'] = le.fit_transform(data['Gender'])\n",
        "data['Ascites'] = le.fit_transform(data['Ascites'])\n",
        "data['Hepatomegaly'] = le.fit_transform(data['Hepatomegaly'])\n",
        "data['Spiders'] = le.fit_transform(data['Spiders'])\n",
        "data['Edema'] = le.fit_transform(data['Edema'])\n",
        "data.head()"
      ],
      "metadata": {
        "colab": {
          "base_uri": "https://localhost:8080/",
          "height": 270
        },
        "id": "U6_h6VlFDPMQ",
        "outputId": "f1879e37-fe98-4407-8d8d-a298f1c7d294"
      },
      "execution_count": 217,
      "outputs": [
        {
          "output_type": "execute_result",
          "data": {
            "text/plain": [
              "   N_Days  Status  Drug    Age  Gender  Ascites  Hepatomegaly  Spiders  Edema  \\\n",
              "0     400       2     0  21464       0        1             1        1      2   \n",
              "1    4500       0     0  20617       0        0             1        1      0   \n",
              "2    1012       2     0  25594       1        0             0        0      1   \n",
              "3    1925       2     0  19994       0        0             1        1      1   \n",
              "4    1504       1     1  13918       0        0             1        1      0   \n",
              "\n",
              "   Bilirubin  Cholesterol  Albumin  Copper  Alk_Phos    SGOT  Tryglicerides  \\\n",
              "0       14.5        261.0     2.60   156.0    1718.0  137.95          172.0   \n",
              "1        1.1        302.0     4.14    54.0    7394.8  113.52           88.0   \n",
              "2        1.4        176.0     3.48   210.0     516.0   96.10           55.0   \n",
              "3        1.8        244.0     2.54    64.0    6121.8   60.63           92.0   \n",
              "4        3.4        279.0     3.53   143.0     671.0  113.15           72.0   \n",
              "\n",
              "   Platelets  Prothrombin  Stage  \n",
              "0      190.0         12.2    4.0  \n",
              "1      221.0         10.6    3.0  \n",
              "2      151.0         12.0    4.0  \n",
              "3      183.0         10.3    4.0  \n",
              "4      136.0         10.9    3.0  "
            ],
            "text/html": [
              "\n",
              "  <div id=\"df-46f23802-52b6-420b-b954-5f56f8dd7624\">\n",
              "    <div class=\"colab-df-container\">\n",
              "      <div>\n",
              "<style scoped>\n",
              "    .dataframe tbody tr th:only-of-type {\n",
              "        vertical-align: middle;\n",
              "    }\n",
              "\n",
              "    .dataframe tbody tr th {\n",
              "        vertical-align: top;\n",
              "    }\n",
              "\n",
              "    .dataframe thead th {\n",
              "        text-align: right;\n",
              "    }\n",
              "</style>\n",
              "<table border=\"1\" class=\"dataframe\">\n",
              "  <thead>\n",
              "    <tr style=\"text-align: right;\">\n",
              "      <th></th>\n",
              "      <th>N_Days</th>\n",
              "      <th>Status</th>\n",
              "      <th>Drug</th>\n",
              "      <th>Age</th>\n",
              "      <th>Gender</th>\n",
              "      <th>Ascites</th>\n",
              "      <th>Hepatomegaly</th>\n",
              "      <th>Spiders</th>\n",
              "      <th>Edema</th>\n",
              "      <th>Bilirubin</th>\n",
              "      <th>Cholesterol</th>\n",
              "      <th>Albumin</th>\n",
              "      <th>Copper</th>\n",
              "      <th>Alk_Phos</th>\n",
              "      <th>SGOT</th>\n",
              "      <th>Tryglicerides</th>\n",
              "      <th>Platelets</th>\n",
              "      <th>Prothrombin</th>\n",
              "      <th>Stage</th>\n",
              "    </tr>\n",
              "  </thead>\n",
              "  <tbody>\n",
              "    <tr>\n",
              "      <th>0</th>\n",
              "      <td>400</td>\n",
              "      <td>2</td>\n",
              "      <td>0</td>\n",
              "      <td>21464</td>\n",
              "      <td>0</td>\n",
              "      <td>1</td>\n",
              "      <td>1</td>\n",
              "      <td>1</td>\n",
              "      <td>2</td>\n",
              "      <td>14.5</td>\n",
              "      <td>261.0</td>\n",
              "      <td>2.60</td>\n",
              "      <td>156.0</td>\n",
              "      <td>1718.0</td>\n",
              "      <td>137.95</td>\n",
              "      <td>172.0</td>\n",
              "      <td>190.0</td>\n",
              "      <td>12.2</td>\n",
              "      <td>4.0</td>\n",
              "    </tr>\n",
              "    <tr>\n",
              "      <th>1</th>\n",
              "      <td>4500</td>\n",
              "      <td>0</td>\n",
              "      <td>0</td>\n",
              "      <td>20617</td>\n",
              "      <td>0</td>\n",
              "      <td>0</td>\n",
              "      <td>1</td>\n",
              "      <td>1</td>\n",
              "      <td>0</td>\n",
              "      <td>1.1</td>\n",
              "      <td>302.0</td>\n",
              "      <td>4.14</td>\n",
              "      <td>54.0</td>\n",
              "      <td>7394.8</td>\n",
              "      <td>113.52</td>\n",
              "      <td>88.0</td>\n",
              "      <td>221.0</td>\n",
              "      <td>10.6</td>\n",
              "      <td>3.0</td>\n",
              "    </tr>\n",
              "    <tr>\n",
              "      <th>2</th>\n",
              "      <td>1012</td>\n",
              "      <td>2</td>\n",
              "      <td>0</td>\n",
              "      <td>25594</td>\n",
              "      <td>1</td>\n",
              "      <td>0</td>\n",
              "      <td>0</td>\n",
              "      <td>0</td>\n",
              "      <td>1</td>\n",
              "      <td>1.4</td>\n",
              "      <td>176.0</td>\n",
              "      <td>3.48</td>\n",
              "      <td>210.0</td>\n",
              "      <td>516.0</td>\n",
              "      <td>96.10</td>\n",
              "      <td>55.0</td>\n",
              "      <td>151.0</td>\n",
              "      <td>12.0</td>\n",
              "      <td>4.0</td>\n",
              "    </tr>\n",
              "    <tr>\n",
              "      <th>3</th>\n",
              "      <td>1925</td>\n",
              "      <td>2</td>\n",
              "      <td>0</td>\n",
              "      <td>19994</td>\n",
              "      <td>0</td>\n",
              "      <td>0</td>\n",
              "      <td>1</td>\n",
              "      <td>1</td>\n",
              "      <td>1</td>\n",
              "      <td>1.8</td>\n",
              "      <td>244.0</td>\n",
              "      <td>2.54</td>\n",
              "      <td>64.0</td>\n",
              "      <td>6121.8</td>\n",
              "      <td>60.63</td>\n",
              "      <td>92.0</td>\n",
              "      <td>183.0</td>\n",
              "      <td>10.3</td>\n",
              "      <td>4.0</td>\n",
              "    </tr>\n",
              "    <tr>\n",
              "      <th>4</th>\n",
              "      <td>1504</td>\n",
              "      <td>1</td>\n",
              "      <td>1</td>\n",
              "      <td>13918</td>\n",
              "      <td>0</td>\n",
              "      <td>0</td>\n",
              "      <td>1</td>\n",
              "      <td>1</td>\n",
              "      <td>0</td>\n",
              "      <td>3.4</td>\n",
              "      <td>279.0</td>\n",
              "      <td>3.53</td>\n",
              "      <td>143.0</td>\n",
              "      <td>671.0</td>\n",
              "      <td>113.15</td>\n",
              "      <td>72.0</td>\n",
              "      <td>136.0</td>\n",
              "      <td>10.9</td>\n",
              "      <td>3.0</td>\n",
              "    </tr>\n",
              "  </tbody>\n",
              "</table>\n",
              "</div>\n",
              "      <button class=\"colab-df-convert\" onclick=\"convertToInteractive('df-46f23802-52b6-420b-b954-5f56f8dd7624')\"\n",
              "              title=\"Convert this dataframe to an interactive table.\"\n",
              "              style=\"display:none;\">\n",
              "        \n",
              "  <svg xmlns=\"http://www.w3.org/2000/svg\" height=\"24px\"viewBox=\"0 0 24 24\"\n",
              "       width=\"24px\">\n",
              "    <path d=\"M0 0h24v24H0V0z\" fill=\"none\"/>\n",
              "    <path d=\"M18.56 5.44l.94 2.06.94-2.06 2.06-.94-2.06-.94-.94-2.06-.94 2.06-2.06.94zm-11 1L8.5 8.5l.94-2.06 2.06-.94-2.06-.94L8.5 2.5l-.94 2.06-2.06.94zm10 10l.94 2.06.94-2.06 2.06-.94-2.06-.94-.94-2.06-.94 2.06-2.06.94z\"/><path d=\"M17.41 7.96l-1.37-1.37c-.4-.4-.92-.59-1.43-.59-.52 0-1.04.2-1.43.59L10.3 9.45l-7.72 7.72c-.78.78-.78 2.05 0 2.83L4 21.41c.39.39.9.59 1.41.59.51 0 1.02-.2 1.41-.59l7.78-7.78 2.81-2.81c.8-.78.8-2.07 0-2.86zM5.41 20L4 18.59l7.72-7.72 1.47 1.35L5.41 20z\"/>\n",
              "  </svg>\n",
              "      </button>\n",
              "      \n",
              "  <style>\n",
              "    .colab-df-container {\n",
              "      display:flex;\n",
              "      flex-wrap:wrap;\n",
              "      gap: 12px;\n",
              "    }\n",
              "\n",
              "    .colab-df-convert {\n",
              "      background-color: #E8F0FE;\n",
              "      border: none;\n",
              "      border-radius: 50%;\n",
              "      cursor: pointer;\n",
              "      display: none;\n",
              "      fill: #1967D2;\n",
              "      height: 32px;\n",
              "      padding: 0 0 0 0;\n",
              "      width: 32px;\n",
              "    }\n",
              "\n",
              "    .colab-df-convert:hover {\n",
              "      background-color: #E2EBFA;\n",
              "      box-shadow: 0px 1px 2px rgba(60, 64, 67, 0.3), 0px 1px 3px 1px rgba(60, 64, 67, 0.15);\n",
              "      fill: #174EA6;\n",
              "    }\n",
              "\n",
              "    [theme=dark] .colab-df-convert {\n",
              "      background-color: #3B4455;\n",
              "      fill: #D2E3FC;\n",
              "    }\n",
              "\n",
              "    [theme=dark] .colab-df-convert:hover {\n",
              "      background-color: #434B5C;\n",
              "      box-shadow: 0px 1px 3px 1px rgba(0, 0, 0, 0.15);\n",
              "      filter: drop-shadow(0px 1px 2px rgba(0, 0, 0, 0.3));\n",
              "      fill: #FFFFFF;\n",
              "    }\n",
              "  </style>\n",
              "\n",
              "      <script>\n",
              "        const buttonEl =\n",
              "          document.querySelector('#df-46f23802-52b6-420b-b954-5f56f8dd7624 button.colab-df-convert');\n",
              "        buttonEl.style.display =\n",
              "          google.colab.kernel.accessAllowed ? 'block' : 'none';\n",
              "\n",
              "        async function convertToInteractive(key) {\n",
              "          const element = document.querySelector('#df-46f23802-52b6-420b-b954-5f56f8dd7624');\n",
              "          const dataTable =\n",
              "            await google.colab.kernel.invokeFunction('convertToInteractive',\n",
              "                                                     [key], {});\n",
              "          if (!dataTable) return;\n",
              "\n",
              "          const docLinkHtml = 'Like what you see? Visit the ' +\n",
              "            '<a target=\"_blank\" href=https://colab.research.google.com/notebooks/data_table.ipynb>data table notebook</a>'\n",
              "            + ' to learn more about interactive tables.';\n",
              "          element.innerHTML = '';\n",
              "          dataTable['output_type'] = 'display_data';\n",
              "          await google.colab.output.renderOutput(dataTable, element);\n",
              "          const docLink = document.createElement('div');\n",
              "          docLink.innerHTML = docLinkHtml;\n",
              "          element.appendChild(docLink);\n",
              "        }\n",
              "      </script>\n",
              "    </div>\n",
              "  </div>\n",
              "  "
            ]
          },
          "metadata": {},
          "execution_count": 217
        }
      ]
    },
    {
      "cell_type": "code",
      "source": [
        "#Independent variables\n",
        "x = data.drop(['Status', 'Stage'], axis=1)"
      ],
      "metadata": {
        "id": "m8piWi3YS4yo"
      },
      "execution_count": 218,
      "outputs": []
    },
    {
      "cell_type": "code",
      "source": [
        "#Columns in the independent variable\n",
        "x.columns"
      ],
      "metadata": {
        "colab": {
          "base_uri": "https://localhost:8080/"
        },
        "id": "g0-w14XyGgZa",
        "outputId": "a2d56de6-93dc-4bdf-e2ad-4d56e3f1c172"
      },
      "execution_count": 219,
      "outputs": [
        {
          "output_type": "execute_result",
          "data": {
            "text/plain": [
              "Index(['N_Days', 'Drug', 'Age', 'Gender', 'Ascites', 'Hepatomegaly', 'Spiders',\n",
              "       'Edema', 'Bilirubin', 'Cholesterol', 'Albumin', 'Copper', 'Alk_Phos',\n",
              "       'SGOT', 'Tryglicerides', 'Platelets', 'Prothrombin'],\n",
              "      dtype='object')"
            ]
          },
          "metadata": {},
          "execution_count": 219
        }
      ]
    },
    {
      "cell_type": "code",
      "source": [
        "x.dtypes"
      ],
      "metadata": {
        "colab": {
          "base_uri": "https://localhost:8080/"
        },
        "id": "hKSORh-HL0dj",
        "outputId": "cb907af2-43d8-4ced-c144-7df5e83a25ee"
      },
      "execution_count": 220,
      "outputs": [
        {
          "output_type": "execute_result",
          "data": {
            "text/plain": [
              "N_Days             int64\n",
              "Drug               int64\n",
              "Age                int64\n",
              "Gender             int64\n",
              "Ascites            int64\n",
              "Hepatomegaly       int64\n",
              "Spiders            int64\n",
              "Edema              int64\n",
              "Bilirubin        float64\n",
              "Cholesterol      float64\n",
              "Albumin          float64\n",
              "Copper           float64\n",
              "Alk_Phos         float64\n",
              "SGOT             float64\n",
              "Tryglicerides    float64\n",
              "Platelets        float64\n",
              "Prothrombin      float64\n",
              "dtype: object"
            ]
          },
          "metadata": {},
          "execution_count": 220
        }
      ]
    },
    {
      "cell_type": "code",
      "source": [
        "#Converting x values into int datatype\n",
        "x = x.astype(int)\n",
        "x.dtypes"
      ],
      "metadata": {
        "colab": {
          "base_uri": "https://localhost:8080/"
        },
        "id": "phIuumdDL66M",
        "outputId": "ca4d345e-dada-4a84-8cde-c1c6f1b2ada7"
      },
      "execution_count": 221,
      "outputs": [
        {
          "output_type": "execute_result",
          "data": {
            "text/plain": [
              "N_Days           int64\n",
              "Drug             int64\n",
              "Age              int64\n",
              "Gender           int64\n",
              "Ascites          int64\n",
              "Hepatomegaly     int64\n",
              "Spiders          int64\n",
              "Edema            int64\n",
              "Bilirubin        int64\n",
              "Cholesterol      int64\n",
              "Albumin          int64\n",
              "Copper           int64\n",
              "Alk_Phos         int64\n",
              "SGOT             int64\n",
              "Tryglicerides    int64\n",
              "Platelets        int64\n",
              "Prothrombin      int64\n",
              "dtype: object"
            ]
          },
          "metadata": {},
          "execution_count": 221
        }
      ]
    },
    {
      "cell_type": "code",
      "source": [
        "#Count of attributes in the independent variable\n",
        "len(x.columns)"
      ],
      "metadata": {
        "colab": {
          "base_uri": "https://localhost:8080/"
        },
        "id": "-MFUOnM_GYLS",
        "outputId": "ddce6def-40e4-47a4-9f25-5b957db38aff"
      },
      "execution_count": 222,
      "outputs": [
        {
          "output_type": "execute_result",
          "data": {
            "text/plain": [
              "17"
            ]
          },
          "metadata": {},
          "execution_count": 222
        }
      ]
    },
    {
      "cell_type": "code",
      "source": [
        "#Dependent variable\n",
        "y = data['Stage'].values"
      ],
      "metadata": {
        "id": "MlyFyFrpBPp_"
      },
      "execution_count": 223,
      "outputs": []
    },
    {
      "cell_type": "code",
      "source": [
        "#Converting x values into int datatype\n",
        "import pandas as pd\n",
        "y = y.astype(int)\n",
        "y.dtype"
      ],
      "metadata": {
        "colab": {
          "base_uri": "https://localhost:8080/"
        },
        "id": "vTKN-ztDL-_r",
        "outputId": "8ffad364-fd93-48ba-f8cb-d6d45c50cded"
      },
      "execution_count": 224,
      "outputs": [
        {
          "output_type": "execute_result",
          "data": {
            "text/plain": [
              "dtype('int64')"
            ]
          },
          "metadata": {},
          "execution_count": 224
        }
      ]
    },
    {
      "cell_type": "code",
      "source": [
        "#Count of each values for the variable 'Stage'\n",
        "data['Stage'].value_counts()"
      ],
      "metadata": {
        "colab": {
          "base_uri": "https://localhost:8080/"
        },
        "id": "exjAux4QD05j",
        "outputId": "0b21b4c4-3656-45f0-955a-f6502ce64729"
      },
      "execution_count": 228,
      "outputs": [
        {
          "output_type": "execute_result",
          "data": {
            "text/plain": [
              "3.000000    155\n",
              "4.000000    144\n",
              "2.000000     92\n",
              "1.000000     21\n",
              "3.024272      6\n",
              "Name: Stage, dtype: int64"
            ]
          },
          "metadata": {},
          "execution_count": 228
        }
      ]
    },
    {
      "cell_type": "code",
      "source": [
        "plt.figure(figsize=(6,5))\n",
        "sns.histplot(data=data,x='Stage',hue=\"Stage\",palette=\"plasma\", kde=True);"
      ],
      "metadata": {
        "colab": {
          "base_uri": "https://localhost:8080/",
          "height": 465
        },
        "id": "yEVM8xIAESnh",
        "outputId": "ad86d58a-2a6c-4fa7-cbc4-cfbaadd7bfac"
      },
      "execution_count": 229,
      "outputs": [
        {
          "output_type": "display_data",
          "data": {
            "text/plain": [
              "<Figure size 600x500 with 1 Axes>"
            ],
            "image/png": "[encoded data removed]"
          },
          "metadata": {}
        }
      ]
    },
    {
      "cell_type": "markdown",
      "source": [
        "# **FEATURE SELECTION**\n",
        "\n",
        "Feature selection methods are intended to reduce the number of input variables to those that are believed to be most useful to a model in order to predict the target variable.\n",
        "\n",
        "### **ANOVA:**\n",
        "\n",
        "* ANOVA is an acronym for “analysis of variance” and is a parametric statistical hypothesis test for determining whether the means from two or more samples of data (often three or more) come from the same distribution or not.\n",
        "\n",
        "* The results of this test can be used for feature selection where those features that are independent of the target variable can be removed from the dataset."
      ],
      "metadata": {
        "id": "jVsm55qJ5X9U"
      }
    },
    {
      "cell_type": "code",
      "source": [
        "# SelectKBest -- Select features according to the k highest scores.\n",
        "# f_classif -- Compute the ANOVA F-value for the provided sample.\n",
        "#F- Value - It is the ratio of two Chi-distributions divided by its degrees of Freedom\n",
        "from sklearn.feature_selection import SelectKBest\n",
        "from sklearn.feature_selection import f_classif\n",
        "select = SelectKBest(f_classif,k=10)\n",
        "z = select.fit_transform(x,y)\n",
        "\n",
        "print(\"After selecting best 10 features:\", z.shape)"
      ],
      "metadata": {
        "id": "m1pxFuahjL08",
        "colab": {
          "base_uri": "https://localhost:8080/"
        },
        "outputId": "85592ef0-596f-4ee6-85fb-6f5f0531b0a7"
      },
      "execution_count": 230,
      "outputs": [
        {
          "output_type": "stream",
          "name": "stdout",
          "text": [
            "After selecting best 10 features: (418, 10)\n"
          ]
        }
      ]
    },
    {
      "cell_type": "code",
      "source": [
        "#List of selected features\n",
        "New_features=select.get_feature_names_out()\n",
        "list(New_features)"
      ],
      "metadata": {
        "colab": {
          "base_uri": "https://localhost:8080/"
        },
        "id": "cx78R3VTHtjj",
        "outputId": "0e59dff7-0717-4349-92ec-9bd7cab4496f"
      },
      "execution_count": 231,
      "outputs": [
        {
          "output_type": "execute_result",
          "data": {
            "text/plain": [
              "['N_Days',\n",
              " 'Age',\n",
              " 'Ascites',\n",
              " 'Hepatomegaly',\n",
              " 'Spiders',\n",
              " 'Edema',\n",
              " 'Albumin',\n",
              " 'Copper',\n",
              " 'Platelets',\n",
              " 'Prothrombin']"
            ]
          },
          "metadata": {},
          "execution_count": 231
        }
      ]
    },
    {
      "cell_type": "code",
      "source": [
        "#Ranking the selected features based on its importance\n",
        "best_cols = select.get_support(indices=True)\n",
        "best_cols"
      ],
      "metadata": {
        "colab": {
          "base_uri": "https://localhost:8080/"
        },
        "id": "6mMqgM8bIYfT",
        "outputId": "cfba1e5c-91d9-4b17-acb5-830b87433d5f"
      },
      "execution_count": 232,
      "outputs": [
        {
          "output_type": "execute_result",
          "data": {
            "text/plain": [
              "array([ 0,  2,  4,  5,  6,  7, 10, 11, 15, 16])"
            ]
          },
          "metadata": {},
          "execution_count": 232
        }
      ]
    },
    {
      "cell_type": "code",
      "source": [
        "#Scores of features on their importances\n",
        "scores = select.scores_\n",
        "pvalues = select.pvalues_\n",
        "cols = x.columns\n",
        "for idx in range(x.shape[1]):\n",
        "  print(cols[idx], scores[idx])\n",
        "\n",
        "#Plot the scores of the features on their importances\n",
        "  sns.barplot(y=cols,x=scores,palette=\"flare\")\n",
        "plt.title(\"Feature Importance with ANOVA TEST\")\n",
        "plt.xlabel(\"F-scores\")\n",
        "plt.ylabel(\"Features\")"
      ],
      "metadata": {
        "colab": {
          "base_uri": "https://localhost:8080/",
          "height": 784
        },
        "id": "NG2J-hCwJIJa",
        "outputId": "9244aac1-afbc-42d0-d690-8f8b8ccb7866"
      },
      "execution_count": 233,
      "outputs": [
        {
          "output_type": "stream",
          "name": "stdout",
          "text": [
            "N_Days 21.488542307233633\n",
            "Drug 1.2115725788108929\n",
            "Age 6.7838656722813715\n",
            "Gender 0.3149759327472831\n",
            "Ascites 11.457374278421824\n",
            "Hepatomegaly 21.247381693615147\n",
            "Spiders 9.394485669529606\n",
            "Edema 11.08104614634007\n",
            "Bilirubin 6.4379442078562255\n",
            "Cholesterol 3.0924401837977005\n",
            "Albumin 8.593696565464974\n",
            "Copper 8.365609021316448\n",
            "Alk_Phos 0.32417950937867446\n",
            "SGOT 3.611429725692297\n",
            "Tryglicerides 2.119356381474344\n",
            "Platelets 9.391297991370479\n",
            "Prothrombin 14.676956662079517\n"
          ]
        },
        {
          "output_type": "execute_result",
          "data": {
            "text/plain": [
              "Text(0, 0.5, 'Features')"
            ]
          },
          "metadata": {},
          "execution_count": 233
        },
        {
          "output_type": "display_data",
          "data": {
            "text/plain": [
              "<Figure size 640x480 with 1 Axes>"
            ],
            "image/png": "[encoded data removed]"
          },
          "metadata": {}
        }
      ]
    },
    {
      "cell_type": "code",
      "source": [
        "#Handling imbalanced dataset\n",
        "from imblearn.over_sampling import SMOTE\n",
        "smote=SMOTE()\n",
        "x,y=smote.fit_resample(x,y)"
      ],
      "metadata": {
        "id": "va0Fk1p5MfZj"
      },
      "execution_count": 236,
      "outputs": []
    },
    {
      "cell_type": "markdown",
      "source": [
        "# **TRAIN VALIDATION AND TEST SETS**"
      ],
      "metadata": {
        "id": "YrkARAmm5gso"
      }
    },
    {
      "cell_type": "code",
      "source": [
        "from sklearn.model_selection import train_test_split\n",
        "x_train,x_test,y_train,y_test = train_test_split(x, y, test_size = 0.2, random_state = 0)"
      ],
      "metadata": {
        "id": "t3JK1GLyezVn"
      },
      "execution_count": 237,
      "outputs": []
    },
    {
      "cell_type": "code",
      "source": [
        "print(f\"Shape of Train set : {np.shape(x_train)}\")\n",
        "print(f\"Shape of Test set : {np.shape(x_test)}\")\n",
        "print(f\"Shape of Train set : {np.shape(y_train)}\")\n",
        "print(f\"Shape of Test set : {np.shape(y_test)}\")"
      ],
      "metadata": {
        "colab": {
          "base_uri": "https://localhost:8080/"
        },
        "id": "0Kmpp4WUKVD8",
        "outputId": "405f6deb-0d00-49e8-d1b5-4b858959dc90"
      },
      "execution_count": 238,
      "outputs": [
        {
          "output_type": "stream",
          "name": "stdout",
          "text": [
            "Shape of Train set : (515, 17)\n",
            "Shape of Test set : (129, 17)\n",
            "Shape of Train set : (515,)\n",
            "Shape of Test set : (129,)\n"
          ]
        }
      ]
    },
    {
      "cell_type": "markdown",
      "source": [
        "# **NORMALIZATION**"
      ],
      "metadata": {
        "id": "z4rNtjUX6MwQ"
      }
    },
    {
      "cell_type": "code",
      "source": [
        "from sklearn.preprocessing import StandardScaler\n",
        "sc = StandardScaler()\n",
        "x_train = sc.fit_transform(x_train)\n",
        "x_test = sc.transform(x_test)"
      ],
      "metadata": {
        "id": "xe25yVsmgqmm"
      },
      "execution_count": 239,
      "outputs": []
    },
    {
      "cell_type": "markdown",
      "source": [
        "# **MODEL BUILDING**\n",
        "\n",
        "### **LOGISTIC REGRESSION**\n",
        "\n",
        "* Logistic regression is used for solving the classification problems.\n",
        "\n",
        "* It is used for predicting the categorical dependent variable using a given set of independent variables.\n",
        "\n",
        "* Logistic regression predicts the output of a categorical dependent variable. Therefore the outcome must be a categorical or discrete value. It can be either Yes or No, 0 or 1, true or False, etc.."
      ],
      "metadata": {
        "id": "-FAN85vbK0gz"
      }
    },
    {
      "cell_type": "code",
      "source": [
        "from sklearn.linear_model import LogisticRegression\n",
        "lr = LogisticRegression()\n",
        "lr.fit(x_train,y_train)\n",
        "y_pred_lr=lr.predict(x_test)\n",
        "\n",
        "#Evaluation of the model\n",
        "from sklearn.metrics import f1_score, recall_score, precision_score, accuracy_score\n",
        "print(\"Accuracy score : \",accuracy_score(y_pred_lr,y_test))\n",
        "print(\"precision score : \",precision_score(y_pred_lr,y_test,average='micro'))\n",
        "print(\"recall score : \",recall_score(y_pred_lr,y_test,average='micro'))\n",
        "print(\"f1 score : \",f1_score(y_pred_lr,y_test,average='micro'))"
      ],
      "metadata": {
        "colab": {
          "base_uri": "https://localhost:8080/"
        },
        "id": "Ap4e8goaK5Od",
        "outputId": "5329568f-88f3-4456-d5cd-3fc999a16a13"
      },
      "execution_count": 240,
      "outputs": [
        {
          "output_type": "stream",
          "name": "stdout",
          "text": [
            "Accuracy score :  0.5503875968992248\n",
            "precision score :  0.5503875968992248\n",
            "recall score :  0.5503875968992248\n",
            "f1 score :  0.5503875968992248\n"
          ]
        }
      ]
    },
    {
      "cell_type": "markdown",
      "source": [
        "### **RANDOM FOREST CLASSIFIER**\n",
        "\n",
        "* Random Forest is a classifier that contains a number of decision trees on various subsets of the given dataset and takes the average to improve the predictive accuracy of that dataset.\n",
        "\n",
        "* The greater number of trees in the forest leads to higher accuracy and prevents the problem of overfitting."
      ],
      "metadata": {
        "id": "X-xIUcETK5or"
      }
    },
    {
      "cell_type": "code",
      "source": [
        "from sklearn.ensemble import RandomForestClassifier\n",
        "rfc = RandomForestClassifier()\n",
        "rfc.fit(x_train,y_train)\n",
        "y_pred_rfc=rfc.predict(x_test)\n",
        "\n",
        "#Evaluation of the model\n",
        "from sklearn.metrics import f1_score, recall_score, precision_score, accuracy_score\n",
        "print(\"Accuracy score : \",accuracy_score(y_pred_rfc,y_test))\n",
        "print(\"precision score : \",precision_score(y_pred_rfc,y_test,average='micro'))\n",
        "print(\"recall score : \",recall_score(y_pred_rfc,y_test,average='micro'))\n",
        "print(\"f1 score : \",f1_score(y_pred_rfc,y_test,average='micro'))"
      ],
      "metadata": {
        "colab": {
          "base_uri": "https://localhost:8080/"
        },
        "id": "_Es6hx_BK7gL",
        "outputId": "f0da0bd4-7326-4844-d740-691583655963"
      },
      "execution_count": 241,
      "outputs": [
        {
          "output_type": "stream",
          "name": "stdout",
          "text": [
            "Accuracy score :  0.7286821705426356\n",
            "precision score :  0.7286821705426356\n",
            "recall score :  0.7286821705426356\n",
            "f1 score :  0.7286821705426357\n"
          ]
        }
      ]
    },
    {
      "cell_type": "markdown",
      "source": [
        "### **DECISION TREE CLASSIFIER**\n",
        "\n",
        "* It is a graphical representation for getting all the possible solutions to a problem/decision based on given conditions.\n",
        "\n",
        "* It is a tree-structured classifier, where internal nodes represent the features of a dataset, branches represent the decision rules and each leaf node represents the outcome."
      ],
      "metadata": {
        "id": "o3GBvr06K-ED"
      }
    },
    {
      "cell_type": "code",
      "source": [
        "from sklearn.tree import DecisionTreeClassifier\n",
        "dtc = DecisionTreeClassifier()\n",
        "dtc.fit(x_train,y_train)\n",
        "y_pred_dtc=dtc.predict(x_test)\n",
        "\n",
        "#Evaluation of the model\n",
        "from sklearn.metrics import f1_score, recall_score, precision_score, accuracy_score\n",
        "print(\"Accuracy score : \",accuracy_score(y_pred_dtc,y_test))\n",
        "print(\"precision score : \",precision_score(y_pred_dtc,y_test,average='micro'))\n",
        "print(\"recall score : \",recall_score(y_pred_dtc,y_test,average='micro'))\n",
        "print(\"f1 score : \",f1_score(y_pred_dtc,y_test,average='micro'))"
      ],
      "metadata": {
        "colab": {
          "base_uri": "https://localhost:8080/"
        },
        "id": "VqkSoi8FM1KO",
        "outputId": "f39ad3db-c6c7-45c7-d800-0c4b23830a6e"
      },
      "execution_count": 243,
      "outputs": [
        {
          "output_type": "stream",
          "name": "stdout",
          "text": [
            "Accuracy score :  0.5426356589147286\n",
            "precision score :  0.5426356589147286\n",
            "recall score :  0.5426356589147286\n",
            "f1 score :  0.5426356589147286\n"
          ]
        }
      ]
    },
    {
      "cell_type": "markdown",
      "source": [
        "### **SUPPORT VECTOR CLASSIFIER**\n",
        "\n",
        "* The goal of the SVM algorithm is to create the best line or decision boundary that can segregate n-dimensional space into classes so that can easily put the new data point in the correct category in the future. This best decision boundary is called a hyperplane.\n",
        "\n",
        "* SVM chooses the extreme points/vectors that help in creating the hyperplane.\n",
        "* These extreme cases are called as support vectors, and hence algorithm is termed as Support Vector Machine."
      ],
      "metadata": {
        "id": "jmpt3JcHLBmb"
      }
    },
    {
      "cell_type": "code",
      "source": [
        "from sklearn.svm import SVC\n",
        "svc = SVC()\n",
        "svc.fit(x_train,y_train)\n",
        "y_pred_svc=svc.predict(x_test)\n",
        "\n",
        "#Evaluation of the model\n",
        "from sklearn.metrics import f1_score, recall_score, precision_score, accuracy_score\n",
        "print(\"Accuracy score : \",accuracy_score(y_pred_svc,y_test))\n",
        "print(\"precision score : \",precision_score(y_pred_svc,y_test,average='micro'))\n",
        "print(\"recall score : \",recall_score(y_pred_svc,y_test,average='micro'))\n",
        "print(\"f1 score : \",f1_score(y_pred_svc,y_test,average='micro'))"
      ],
      "metadata": {
        "colab": {
          "base_uri": "https://localhost:8080/"
        },
        "id": "bv4hkm4iLDcM",
        "outputId": "cfc87e96-b30d-43b7-b497-033977bb75f0"
      },
      "execution_count": 244,
      "outputs": [
        {
          "output_type": "stream",
          "name": "stdout",
          "text": [
            "Accuracy score :  0.5736434108527132\n",
            "precision score :  0.5736434108527132\n",
            "recall score :  0.5736434108527132\n",
            "f1 score :  0.5736434108527132\n"
          ]
        }
      ]
    },
    {
      "cell_type": "markdown",
      "source": [
        "### **K-NEAREST NEIGHBOR**\n",
        "\n",
        "* K-NN algorithm assumes the similarity between the new case/data and available cases and put the new case into the category that is most similar to the available categories.\n",
        "\n",
        "* K-NN algorithm stores all the available data and classifies a new data point based on the similarity. This means when new data appears then it can be easily classified into a well suite category by using K- NN algorithm.\n",
        "\n",
        "* It is also called a lazy learner algorithm because it does not learn from the training set immediately instead it stores the dataset and at the time of classification, it performs an action on the dataset."
      ],
      "metadata": {
        "id": "AUGjqcU3LFLL"
      }
    },
    {
      "cell_type": "code",
      "source": [
        "from sklearn.neighbors import KNeighborsClassifier\n",
        "knn = KNeighborsClassifier()\n",
        "knn.fit(x_train,y_train)\n",
        "y_pred_knn=knn.predict(x_test)\n",
        "\n",
        "#Evaluation of the model\n",
        "from sklearn.metrics import f1_score, recall_score, precision_score, accuracy_score\n",
        "print(\"Accuracy score : \",accuracy_score(y_pred_knn,y_test))\n",
        "print(\"precision score : \",precision_score(y_pred_knn,y_test,average='micro'))\n",
        "print(\"recall score : \",recall_score(y_pred_knn,y_test,average='micro'))\n",
        "print(\"f1 score : \",f1_score(y_pred_knn,y_test,average='micro'))"
      ],
      "metadata": {
        "colab": {
          "base_uri": "https://localhost:8080/"
        },
        "id": "pLfshvDlLGpj",
        "outputId": "12f996d8-ea70-412a-9f2c-c1aa72061600"
      },
      "execution_count": 245,
      "outputs": [
        {
          "output_type": "stream",
          "name": "stdout",
          "text": [
            "Accuracy score :  0.627906976744186\n",
            "precision score :  0.627906976744186\n",
            "recall score :  0.627906976744186\n",
            "f1 score :  0.627906976744186\n"
          ]
        }
      ]
    },
    {
      "cell_type": "markdown",
      "source": [
        "# **EVALUATION METRICS OF VARIOUS MACHINE LEARNING MODELS**"
      ],
      "metadata": {
        "id": "Zur0me7FNIDE"
      }
    },
    {
      "cell_type": "code",
      "source": [
        "# plot the evaluation metrics for each model\n",
        "model_names = ['Logistic Regression', 'Random Forest', 'Decision Tree', 'Support Vector Machine', 'KNN']\n",
        "accuracy = [0.55, 0.729, 0.543, 0.574, 0.628]\n",
        "precision = [0.55, 0.729, 0.543, 0.574, 0.628]\n",
        "recall = [0.55, 0.729, 0.543, 0.574, 0.628]\n",
        "f1_score = [0.55, 0.729, 0.543, 0.574, 0.628]\n",
        "\n",
        "num_models = len(model_names)\n",
        "bar_width = 0.2\n",
        "bar_positions = np.arange(num_models)\n",
        "fig, ax = plt.subplots()\n",
        "\n",
        "# Create the bar plots for each evaluation metric\n",
        "accuracy_bar = ax.bar(bar_positions, accuracy, bar_width, label='Accuracy')\n",
        "precision_bar = ax.bar(bar_positions + bar_width, precision, bar_width, label='Precision')\n",
        "recall_bar = ax.bar(bar_positions + 2 * bar_width, recall, bar_width, label='Recall')\n",
        "f1_score_bar = ax.bar(bar_positions + 3 * bar_width, f1_score, bar_width, label='F1 Score')\n",
        "\n",
        "# Set the labels and tick positions in the chart\n",
        "ax.set_xlabel('Classification Models')\n",
        "ax.set_xticks(bar_positions + 2 * bar_width)\n",
        "ax.set_xticklabels(model_names)\n",
        "fig.set_size_inches(10, 5)\n",
        "ax.set_ylabel('Evaluation Metrics')\n",
        "ax.set_title('Comparison of evaluation metrics among various machine learning models')\n",
        "ax.legend()\n",
        "ax.grid(True)\n",
        "plt.tight_layout()\n",
        "plt.show()"
      ],
      "metadata": {
        "colab": {
          "base_uri": "https://localhost:8080/",
          "height": 507
        },
        "id": "I__kOiQrNGS7",
        "outputId": "edac3ed9-37cc-4a7a-a0a4-fd6b257c9090"
      },
      "execution_count": 246,
      "outputs": [
        {
          "output_type": "display_data",
          "data": {
            "text/plain": [
              "<Figure size 1000x500 with 1 Axes>"
            ],
            "image/png": "[encoded data removed]"
          },
          "metadata": {}
        }
      ]
    },
    {
      "cell_type": "markdown",
      "source": [
        "# **KFOLD CROSS VALIDATION FOR VARIOUS MACHINE LEARNING MODELS**"
      ],
      "metadata": {
        "id": "rBk58FB_OL0E"
      }
    },
    {
      "cell_type": "code",
      "source": [
        "from sklearn.model_selection import cross_val_score, KFold\n",
        "cv=KFold(n_splits=5, random_state=0, shuffle=True)\n",
        "\n",
        "scores = cross_val_score(lr, x_train, y_train, cv = cv,scoring='accuracy')\n",
        "print(\"Logistics Regression Average CV Score: \",scores.mean())\n",
        "\n",
        "scores = cross_val_score(rfc, x_train, y_train, cv = cv,scoring='accuracy')\n",
        "print(\"Random Forest Average CV Score: \",scores.mean())\n",
        "\n",
        "scores = cross_val_score(dtc, x_train, y_train, cv = cv,scoring='accuracy')\n",
        "print(\"Decision Tree Average CV Score: \",scores.mean())\n",
        "\n",
        "scores = cross_val_score(svc, x_train, y_train, cv = cv,scoring='accuracy')\n",
        "print(\"Support Vector Machine Average CV Score: \",scores.mean())\n",
        "\n",
        "scores = cross_val_score(knn, x_train, y_train, cv = cv,scoring='accuracy')\n",
        "print(\"KNeighbors Average CV Score: \",scores.mean())"
      ],
      "metadata": {
        "id": "nWW4LKt_gqob",
        "colab": {
          "base_uri": "https://localhost:8080/"
        },
        "outputId": "18a2ee38-5dd5-4e5e-f8b8-8fd19feac26c"
      },
      "execution_count": 247,
      "outputs": [
        {
          "output_type": "stream",
          "name": "stdout",
          "text": [
            "Logistics Regression Average CV Score:  0.5262135922330098\n",
            "Random Forest Average CV Score:  0.6679611650485437\n",
            "Decision Tree Average CV Score:  0.5572815533980583\n",
            "Support Vector Machine Average CV Score:  0.5941747572815534\n",
            "KNeighbors Average CV Score:  0.5728155339805825\n"
          ]
        }
      ]
    },
    {
      "cell_type": "markdown",
      "source": [
        "### **PLOT FOR ACCURACY ON VARIOUS MACHINE LEARNING MODELS**"
      ],
      "metadata": {
        "id": "uhFcI7lGOloT"
      }
    },
    {
      "cell_type": "code",
      "source": [
        "models = ['Logistic Regression', 'Random Forest', 'Decision Tree', 'SVM', 'KNN']\n",
        "cv_score = [0.526, 0.668, 0.557, 0.594, 0.573]\n",
        "\n",
        "position = range(len(models))\n",
        "fig, ax = plt.subplots(figsize=(10, 6))\n",
        "ax.bar(position, cv_score)\n",
        "\n",
        "for i, v in enumerate(cv_score):\n",
        "    ax.text(i, v, str(v), ha='center', va='bottom')\n",
        "\n",
        "ax.set_xlabel('Machine learning models')\n",
        "ax.set_ylabel('CV Score')\n",
        "ax.set_title('Cross validation scores for various machine learning models')\n",
        "ax.set_xticks(position)\n",
        "ax.set_xticklabels(models)"
      ],
      "metadata": {
        "colab": {
          "base_uri": "https://localhost:8080/",
          "height": 651
        },
        "id": "SpI60jvpOeWl",
        "outputId": "fc2c5337-94ae-4f07-d510-269166ea9bce"
      },
      "execution_count": 253,
      "outputs": [
        {
          "output_type": "execute_result",
          "data": {
            "text/plain": [
              "[Text(0, 0, 'Logistic Regression'),\n",
              " Text(1, 0, 'Random Forest'),\n",
              " Text(2, 0, 'Decision Tree'),\n",
              " Text(3, 0, 'SVM'),\n",
              " Text(4, 0, 'KNN')]"
            ]
          },
          "metadata": {},
          "execution_count": 253
        },
        {
          "output_type": "display_data",
          "data": {
            "text/plain": [
              "<Figure size 1000x600 with 1 Axes>"
            ],
            "image/png": "[encoded data removed]"
          },
          "metadata": {}
        }
      ]
    },
    {
      "cell_type": "markdown",
      "source": [
        "### **COMPARISON OF ACCURACY AND AVERAGE OF CROSS VALIDATION SCORES ON VARIOUS MACHINE LEARNING MODELS**"
      ],
      "metadata": {
        "id": "HV_t2IHGQgEM"
      }
    },
    {
      "cell_type": "code",
      "source": [
        "#plot to compare the accuracy and cv scores among various machine learning models\n",
        "models = ['Logistic Regression', 'Random Forest', 'Decision Tree', 'SVM', 'KNN']\n",
        "accuracy = [0.55, 0.729, 0.543, 0.574, 0.628]\n",
        "cv_score = [0.526, 0.668, 0.557, 0.594, 0.573]\n",
        "\n",
        "position = range(len(models))\n",
        "plt.figure(figsize=(10, 6))\n",
        "bar_width = 0.2\n",
        "plt.bar(position, accuracy, color='c', width=bar_width, label='Accuracy')\n",
        "plt.bar([p + bar_width for p in position], cv_score, color='m', width=bar_width, label='CV score')\n",
        "plt.xlabel('Machine learning models')\n",
        "plt.ylabel('Accuracy and CV scores')\n",
        "plt.title('Comparison of accuracy and cv scores on various machine learning models')\n",
        "plt.xticks([p + bar_width for p in position], models)\n",
        "plt.legend()\n",
        "plt.show()"
      ],
      "metadata": {
        "colab": {
          "base_uri": "https://localhost:8080/",
          "height": 564
        },
        "id": "h7b2oDBKQd6M",
        "outputId": "669312a6-0bd4-4618-9cf2-7290b429f914"
      },
      "execution_count": 256,
      "outputs": [
        {
          "output_type": "display_data",
          "data": {
            "text/plain": [
              "<Figure size 1000x600 with 1 Axes>"
            ],
            "image/png": "[encoded data removed]"
          },
          "metadata": {}
        }
      ]
    },
    {
      "cell_type": "markdown",
      "source": [
        "## Random Forest Classifier is the top performer\n",
        "\n",
        "# **HYPERPARAMETER TUNING**"
      ],
      "metadata": {
        "id": "c35klkWJC5oU"
      }
    },
    {
      "cell_type": "code",
      "source": [
        "from sklearn.model_selection import GridSearchCV\n",
        "param_grid = {\n",
        "    'n_estimators': [50, 100, 150],\n",
        "    'max_depth': [3, 5, 7],\n",
        "    'min_samples_split': [2, 5, 10],\n",
        "    'max_features': ['sqrt', 'log2', None],\n",
        "    'class_weight': [None, 'balanced', {0: 0.3, 1: 0.7}]\n",
        "}\n",
        "\n",
        "Classifier = RandomForestClassifier()\n",
        "grid_search = GridSearchCV(estimator=rfc, param_grid=param_grid, cv=3, scoring='accuracy')\n",
        "grid_search.fit(x_train, y_train)\n",
        "\n",
        "print(f\"Best parameters: {grid_search.best_params_}\")\n",
        "print(f\"Best score: {grid_search.best_score_:.4f}\")"
      ],
      "metadata": {
        "id": "z2oI0JINErjx",
        "colab": {
          "base_uri": "https://localhost:8080/"
        },
        "outputId": "23807cc4-4c64-4e65-f11a-e0fd7c7ba15f"
      },
      "execution_count": 257,
      "outputs": [
        {
          "output_type": "stream",
          "name": "stdout",
          "text": [
            "Best parameters: {'class_weight': None, 'max_depth': 7, 'max_features': 'log2', 'min_samples_split': 2, 'n_estimators': 100}\n",
            "Best score: 0.6194\n"
          ]
        }
      ]
    },
    {
      "cell_type": "markdown",
      "source": [
        "# **FINAL MODEL**"
      ],
      "metadata": {
        "id": "2bqiHsY3SJl3"
      }
    },
    {
      "cell_type": "code",
      "source": [
        "classifier = RandomForestClassifier(class_weight = None, max_depth = 7, max_features = 'log2', min_samples_split = 2, n_estimators = 100)\n",
        "classifier.fit(x_train, y_train)\n",
        "y_pred = classifier.predict(x_test)"
      ],
      "metadata": {
        "id": "lCgXX-Qvgqy0"
      },
      "execution_count": 258,
      "outputs": []
    },
    {
      "cell_type": "markdown",
      "source": [
        "### **EVALUATION METRICS**\n",
        "\n",
        "* The confusion matrix provides insights into the correct and incorrect predictions for each class, allowing for a detailed analysis of accuracy.\n",
        "\n",
        "* The classification report includes metrics such as F1 score, precision, recall, and accuracy for each class, providing a comprehensive analysis of performance metrics for classification models.\n",
        "\n",
        "**Accuracy:** Accuracy is an evaluation metric that allows you to measure the total number of predictions a model gets right.\n",
        "\n",
        "**Precision:** It measures the proportion of correctly predicted positive instances (TP) out of the total instances predicted as positive (TP + FP). It represents the model's ability to minimize false positives.\n",
        "\n",
        "**Recall (Sensitivity or True Positive Rate):** It measures the proportion of correctly predicted positive instances (TP) out of the total actual positive instances (TP + FN). It represents the model's ability to minimize false negatives.\n",
        "\n",
        "**F1 Score:** It is the harmonic mean of precision and recall, providing a balanced measure of the model's accuracy. It is particularly useful when dealing with imbalanced datasets.\n",
        "\n",
        "**Confusion Matrix:**\n",
        "\n",
        "* The confusion matrix is a table that shows the performance of a classification model by summarizing the counts of true positive (TP), true negative (TN), false positive (FP), and false negative (FN) predictions.\n",
        "\n",
        "* It provides a detailed breakdown of the model's predictions for each class, allowing us to evaluate its performance on different classes separately.\n",
        "\n",
        "* The rows of the matrix represent the actual classes, while the columns represent the predicted classes.\n",
        "\n",
        "* The diagonal elements of the matrix represent the correct predictions, while the off-diagonal elements represent the incorrect predictions.\n",
        "\n",
        "* By analyzing the confusion matrix, we can assess the model's accuracy, precision, recall, and other metrics for each class.\n",
        "\n",
        "**Classification Report:**\n",
        "\n",
        "The classification report provides a comprehensive evaluation of a classification model's performance, including metrics such as precision, recall, F1 score, and support.\n",
        "\n",
        "**Support:** It represents the number of instances in each class, indicating the distribution of the classes in the dataset.\n",
        "\n",
        "By examining the confusion matrix and classification report, we can gain insights into a model's overall performance, identify potential areas of improvement, and compare the performance of different models based on various metrics.\n",
        "\n"
      ],
      "metadata": {
        "id": "FMxEzraoSOHs"
      }
    },
    {
      "cell_type": "code",
      "source": [
        "from sklearn.metrics import accuracy_score, precision_score, recall_score, confusion_matrix, f1_score, classification_report\n",
        "print(\"Accuracy score : \",accuracy_score(y_pred,y_test))\n",
        "print(\"precision score : \",precision_score(y_pred,y_test,average='micro'))\n",
        "print(\"recall score : \",recall_score(y_pred,y_test,average='micro'))\n",
        "print(\"f1 score : \",f1_score(y_pred,y_test,average='micro'))\n",
        "print(\"\\nclassification report \\n\")\n",
        "print(classification_report(y_pred, y_test))\n",
        "sns.heatmap(confusion_matrix(y_pred,y_test), annot = True)\n",
        "plt.show()"
      ],
      "metadata": {
        "id": "fe6OYkAegq6l",
        "colab": {
          "base_uri": "https://localhost:8080/",
          "height": 747
        },
        "outputId": "1cdea516-aa01-4f0c-e5f8-0904933464b1"
      },
      "execution_count": 259,
      "outputs": [
        {
          "output_type": "stream",
          "name": "stdout",
          "text": [
            "Accuracy score :  0.6666666666666666\n",
            "precision score :  0.6666666666666666\n",
            "recall score :  0.6666666666666666\n",
            "f1 score :  0.6666666666666666\n",
            "\n",
            "classification report \n",
            "\n",
            "              precision    recall  f1-score   support\n",
            "\n",
            "           1       0.88      0.83      0.86        36\n",
            "           2       0.56      0.67      0.61        27\n",
            "           3       0.58      0.40      0.47        35\n",
            "           4       0.62      0.77      0.69        31\n",
            "\n",
            "    accuracy                           0.67       129\n",
            "   macro avg       0.66      0.67      0.66       129\n",
            "weighted avg       0.67      0.67      0.66       129\n",
            "\n"
          ]
        },
        {
          "output_type": "display_data",
          "data": {
            "text/plain": [
              "<Figure size 640x480 with 2 Axes>"
            ],
            "image/png": "[encoded data removed]"
          },
          "metadata": {}
        }
      ]
    },
    {
      "cell_type": "markdown",
      "source": [
        "### **INFERENCE**\n",
        "\n",
        "* 'N_Days' is the most important feature in the dataset\n",
        "\n",
        "* Random forest classifier performs with the highest accuracy of 67%\n"
      ],
      "metadata": {
        "id": "qgIzfWR0Sef9"
      }
    }
  ]
}